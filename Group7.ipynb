{
 "cells": [
  {
   "cell_type": "code",
   "execution_count": 86,
   "metadata": {},
   "outputs": [],
   "source": [
    "from keras.models import Model,Sequential\n",
    "from keras.layers import Dense, Activation, Convolution2D, MaxPooling2D, Lambda, Input, UpSampling2D, BatchNormalization, Dropout, Flatten, Conv2D\n",
    "from keras.optimizers import SGD\n",
    "import os\n",
    "from numpy import load\n",
    "from aix360.algorithms.contrastive import CEMExplainer, KerasClassifier\n",
    "\n",
    "from keras.models import model_from_json\n",
    "from matplotlib import pyplot as plt\n",
    "import numpy as np\n",
    "import tensorflow as tf\n",
    "from keras.utils.np_utils import to_categorical\n",
    "os.environ[\"CUDA_VISIBLE_DEVICES\"] = \"4\"\n",
    "data_file = '/home/rayeh/Desktop/Project/data/dogs_vs_cats_photos.npy'\n",
    "label_file = '/home/rayeh/Desktop/Project/data/dogs_vs_cats_labels.npy'\n",
    "#選擇要解釋的影像(可選擇: 0~2499)===\n",
    "image_id = 1111"
   ]
  },
  {
   "cell_type": "code",
<<<<<<< HEAD
   "execution_count": 25,
=======
   "execution_count": 88,
>>>>>>> update
   "metadata": {},
   "outputs": [],
   "source": [
    "class CatDog:\n",
    "    def __init__(self):\n",
    "        # load and confirm the shape\n",
<<<<<<< HEAD
    "        data = load('dogs_vs_cats_photos.npy')\n",
    "        labels = load('dogs_vs_cats_labels.npy')\n",
=======
    "        data = load(data_file)\n",
    "        labels = load(label_file)\n",
>>>>>>> update
    "        catg_labels = to_categorical(labels, num_classes=2)\n",
    "        print(data.shape, labels.shape)\n",
    "        \n",
    "        VALIDATION_SIZE = 2500\n",
    "        \n",
    "        self.validation_data = data[:VALIDATION_SIZE, :, :, :]\n",
    "        self.validation_labels = labels[:VALIDATION_SIZE]\n",
    "        self.validation_catg_labels = catg_labels[:VALIDATION_SIZE]\n",
    "        self.train_data = data[VALIDATION_SIZE:, :, :, :]\n",
    "        self.train_labels = labels[VALIDATION_SIZE:]\n",
    "        self.train_catg_labels = catg_labels[VALIDATION_SIZE:]"
   ]
  },
  {
   "cell_type": "code",
<<<<<<< HEAD
   "execution_count": 23,
=======
   "execution_count": 89,
>>>>>>> update
   "metadata": {},
   "outputs": [],
   "source": [
    "def train(data, file_name, params, num_epochs=50, batch_size=128, train_temp=1, init=None):\n",
    "    \"\"\"\n",
    "    Standard neural network training procedure.\n",
    "    \"\"\"\n",
    "    model = Sequential()\n",
    "\n",
    "    print(data.train_data.shape)\n",
    "    \n",
    "    model.add(Conv2D(params[0], (3, 3),\n",
    "                            input_shape=data.train_data.shape[1:]))\n",
    "    model.add(Activation('relu'))\n",
    "    model.add(Conv2D(params[1], (3, 3)))\n",
    "    model.add(Activation('relu'))\n",
    "    model.add(MaxPooling2D(pool_size=(2, 2)))\n",
    "\n",
    "    model.add(Conv2D(params[2], (3, 3)))\n",
    "    model.add(Activation('relu'))\n",
    "    model.add(Conv2D(params[3], (3, 3)))\n",
    "    model.add(Activation('relu'))\n",
    "    model.add(MaxPooling2D(pool_size=(2, 2)))\n",
    "\n",
    "    model.add(Flatten())\n",
    "    model.add(Dense(params[4]))\n",
    "    model.add(Activation('relu'))\n",
    "    model.add(Dropout(0.5))\n",
    "    model.add(Dense(params[5]))\n",
    "    model.add(Activation('relu'))\n",
    "    model.add(Dense(2))\n",
    "    \n",
    "    if init != None:\n",
    "        model.load_weights(init)\n",
    "\n",
    "    def fn(correct, predicted):\n",
    "        return tf.nn.softmax_cross_entropy_with_logits(labels=correct,\n",
    "                                                       logits=predicted/train_temp)\n",
    "\n",
    "    sgd = SGD(lr=0.01, decay=1e-6, momentum=0.9, nesterov=True)\n",
    "    \n",
    "    model.compile(loss=fn,\n",
    "                  optimizer=sgd,\n",
    "                  metrics=['accuracy'])\n",
    "    \n",
    "    model.fit(data.train_data, data.train_catg_labels,\n",
    "              batch_size=batch_size,\n",
    "              validation_data=(data.validation_data, data.validation_catg_labels),\n",
    "              nb_epoch=num_epochs,\n",
    "              shuffle=True)\n",
    "    \n",
    "\n",
    "    if file_name != None:\n",
    "        model.save(f'{file_name}.h5')\n",
    "    \n",
    "    json_string = model.to_json()\n",
    "    with open(f'{file_name}.json', 'w') as json_file:\n",
    "        json_file.write(json_string)\n",
    "    print(f'save model at {file_name}.')\n",
    "    return model"
   ]
  },
  {
   "cell_type": "code",
<<<<<<< HEAD
   "execution_count": 26,
=======
   "execution_count": 90,
>>>>>>> update
   "metadata": {},
   "outputs": [
    {
     "name": "stdout",
     "output_type": "stream",
     "text": [
      "read dataset...\n",
      "(25000, 64, 64, 3) (25000,)\n",
      "Done\n"
     ]
    }
   ],
   "source": [
    "if not os.path.isdir('model'):\n",
    "    os.makedirs('model')\n",
    "print('read dataset...')\n",
    "cat_dog_data = CatDog()\n",
    "print('Done')"
   ]
  },
  {
   "cell_type": "code",
<<<<<<< HEAD
   "execution_count": 27,
=======
   "execution_count": 91,
   "metadata": {},
   "outputs": [],
   "source": [
    "# print('train model...')\n",
    "# cnn_model = train(cat_dog_data, \"model/catdog\", [32, 32, 64, 64, 200, 200], num_epochs=12)\n",
    "# print('Done')"
   ]
  },
  {
   "cell_type": "code",
   "execution_count": 92,
>>>>>>> update
   "metadata": {},
   "outputs": [
    {
     "name": "stdout",
     "output_type": "stream",
     "text": [
<<<<<<< HEAD
      "train model...\n",
      "(22500, 64, 64, 3)\n"
     ]
    },
    {
     "name": "stderr",
     "output_type": "stream",
     "text": [
      "/home/rayeh/.conda/envs/aix360/lib/python3.6/site-packages/ipykernel_launcher.py:54: UserWarning: The `nb_epoch` argument in `fit` has been renamed `epochs`.\n"
     ]
    },
    {
     "name": "stdout",
     "output_type": "stream",
     "text": [
      "Train on 22500 samples, validate on 2500 samples\n",
      "Epoch 1/12\n",
      "22500/22500 [==============================] - 5s 212us/step - loss: 0.6750 - accuracy: 0.5732 - val_loss: 0.6328 - val_accuracy: 0.6648\n",
      "Epoch 2/12\n",
      "22500/22500 [==============================] - 5s 202us/step - loss: 0.6226 - accuracy: 0.6495 - val_loss: 0.5851 - val_accuracy: 0.6860\n",
      "Epoch 3/12\n",
      "22500/22500 [==============================] - 5s 200us/step - loss: 0.5704 - accuracy: 0.7021 - val_loss: 0.5252 - val_accuracy: 0.7356\n",
      "Epoch 4/12\n",
      "22500/22500 [==============================] - 4s 200us/step - loss: 0.5262 - accuracy: 0.7353 - val_loss: 0.5027 - val_accuracy: 0.7512\n",
      "Epoch 5/12\n",
      "22500/22500 [==============================] - 5s 201us/step - loss: 0.4940 - accuracy: 0.7604 - val_loss: 0.4859 - val_accuracy: 0.7592\n",
      "Epoch 6/12\n",
      "22500/22500 [==============================] - 5s 202us/step - loss: 0.4578 - accuracy: 0.7834 - val_loss: 0.5180 - val_accuracy: 0.7460\n",
      "Epoch 7/12\n",
      "22500/22500 [==============================] - 5s 204us/step - loss: 0.4290 - accuracy: 0.8000 - val_loss: 0.4368 - val_accuracy: 0.7948\n",
      "Epoch 8/12\n",
      "22500/22500 [==============================] - 5s 203us/step - loss: 0.3998 - accuracy: 0.8185 - val_loss: 0.4247 - val_accuracy: 0.8044\n",
      "Epoch 9/12\n",
      "22500/22500 [==============================] - 5s 202us/step - loss: 0.3685 - accuracy: 0.8355 - val_loss: 0.4588 - val_accuracy: 0.7944\n",
      "Epoch 10/12\n",
      "22500/22500 [==============================] - 4s 200us/step - loss: 0.3408 - accuracy: 0.8512 - val_loss: 0.4000 - val_accuracy: 0.8164\n",
      "Epoch 11/12\n",
      "22500/22500 [==============================] - 5s 201us/step - loss: 0.3075 - accuracy: 0.8668 - val_loss: 0.4150 - val_accuracy: 0.8156\n",
      "Epoch 12/12\n",
      "22500/22500 [==============================] - 5s 201us/step - loss: 0.2685 - accuracy: 0.8872 - val_loss: 0.4381 - val_accuracy: 0.8196\n",
      "save model at model/catdog.\n",
      "Done\n"
=======
      "/home/rayeh/Desktop/Project/aix360/DL_final_AIX360\n"
>>>>>>> update
     ]
    }
   ],
   "source": [
<<<<<<< HEAD
    "print('train model...')\n",
    "cnn_model = train(cat_dog_data, \"model/catdog\", [32, 32, 64, 64, 200, 200], num_epochs=12)\n",
    "\n",
    "print('Done')"
   ]
  },
  {
   "cell_type": "code",
   "execution_count": 28,
   "metadata": {},
   "outputs": [],
   "source": [
    "# path to mnist related models\n",
    "model_path = '/home/rayeh/Desktop/Project/aix360/AIX360/model'\n",
=======
    "import pathlib\n",
    "model_path = pathlib.Path().absolute()\n",
    "print(model_path)\n",
>>>>>>> update
    "\n",
    "def load_AEmodel(model_json_file, model_wt_file):\n",
    "    \n",
    "    # read model json file\n",
    "    with open(model_json_file, 'r') as f:\n",
    "        model = model_from_json(f.read())\n",
    "    \n",
    "    # read model weights file\n",
    "    model.load_weights(model_wt_file)\n",
    "    \n",
    "    return model\n",
    "\n",
    "def load_cnnmodel(model_json_file, model_wt_file):\n",
    "    \n",
    "    with open(model_json_file, 'r') as f:\n",
    "        model = model_from_json(f.read())\n",
    "    \n",
    "    # read model weights file\n",
    "    model.load_weights(model_wt_file)\n",
    "    \n",
    "    return model"
   ]
  },
  {
   "cell_type": "code",
   "execution_count": 93,
   "metadata": {},
   "outputs": [
    {
     "name": "stdout",
     "output_type": "stream",
     "text": [
      "Model: \"sequential_4\"\n",
      "_________________________________________________________________\n",
      "Layer (type)                 Output Shape              Param #   \n",
      "=================================================================\n",
      "conv2d_8 (Conv2D)            (None, 62, 62, 32)        896       \n",
      "_________________________________________________________________\n",
      "activation_9 (Activation)    (None, 62, 62, 32)        0         \n",
      "_________________________________________________________________\n",
      "conv2d_9 (Conv2D)            (None, 60, 60, 32)        9248      \n",
      "_________________________________________________________________\n",
      "activation_10 (Activation)   (None, 60, 60, 32)        0         \n",
      "_________________________________________________________________\n",
      "max_pooling2d_4 (MaxPooling2 (None, 30, 30, 32)        0         \n",
      "_________________________________________________________________\n",
      "conv2d_10 (Conv2D)           (None, 28, 28, 64)        18496     \n",
      "_________________________________________________________________\n",
      "activation_11 (Activation)   (None, 28, 28, 64)        0         \n",
      "_________________________________________________________________\n",
      "conv2d_11 (Conv2D)           (None, 26, 26, 64)        36928     \n",
      "_________________________________________________________________\n",
      "activation_12 (Activation)   (None, 26, 26, 64)        0         \n",
      "_________________________________________________________________\n",
      "max_pooling2d_5 (MaxPooling2 (None, 13, 13, 64)        0         \n",
      "_________________________________________________________________\n",
      "flatten_2 (Flatten)          (None, 10816)             0         \n",
      "_________________________________________________________________\n",
      "dense_4 (Dense)              (None, 200)               2163400   \n",
      "_________________________________________________________________\n",
      "activation_13 (Activation)   (None, 200)               0         \n",
      "_________________________________________________________________\n",
      "dropout_2 (Dropout)          (None, 200)               0         \n",
      "_________________________________________________________________\n",
      "dense_5 (Dense)              (None, 200)               40200     \n",
      "_________________________________________________________________\n",
      "activation_14 (Activation)   (None, 200)               0         \n",
      "_________________________________________________________________\n",
      "dense_6 (Dense)              (None, 2)                 402       \n",
      "=================================================================\n",
      "Total params: 2,269,570\n",
      "Trainable params: 2,269,570\n",
      "Non-trainable params: 0\n",
      "_________________________________________________________________\n"
     ]
    }
   ],
   "source": [
    "# load model using its json and wt files\n",
    "cnn_model = load_cnnmodel(os.path.join(model_path, 'model/catdog.json'), os.path.join(model_path, 'model/catdog.h5'))\n",
    "\n",
    "# print model summary\n",
    "cnn_model.summary()"
   ]
  },
  {
   "cell_type": "code",
<<<<<<< HEAD
   "execution_count": 29,
=======
   "execution_count": 94,
>>>>>>> update
   "metadata": {},
   "outputs": [],
   "source": [
    "# define autoencoer model\n",
    "class CODEC:\n",
    "    def __init__(self, img_size, num_channels, compress_mode=1, resize=None):\n",
    "\n",
    "        self.compress_mode = compress_mode\n",
    "        working_img_size = img_size\n",
    "\n",
    "        encoder_model = Sequential()\n",
    "        # resize input to a size easy for down-sampled\n",
    "        if resize:\n",
    "            encoder_model.add( Lambda(lambda image: tf.image.resize_images(image, (resize, resize)), \n",
    "            input_shape=(img_size, img_size, num_channels)))\n",
    "        else:\n",
    "            encoder_model.add(Convolution2D( 16, 3, strides=1,padding='same', input_shape=(img_size, img_size, num_channels)))\n",
    "        \n",
    "        BatchNormalization(axis=3)\n",
    "        encoder_model.add(Activation(\"relu\"))\n",
    "        encoder_model.add(MaxPooling2D(pool_size=2, strides=2, padding='same'))\n",
    "        working_img_size //= 2\n",
    "\n",
    "        if compress_mode >=2:\n",
    "            encoder_model.add(Convolution2D( 16, 3, strides=1,padding='same'))\n",
    "            BatchNormalization(axis=3)\n",
    "            encoder_model.add(Activation(\"relu\"))\n",
    "            encoder_model.add(MaxPooling2D(pool_size=2, strides=2, padding='same'))\n",
    "            working_img_size //= 2\n",
    "\n",
    "        if compress_mode >=3:\n",
    "            encoder_model.add(Convolution2D( 16, 3, strides=1,padding='same'))\n",
    "            BatchNormalization(axis=3)\n",
    "            encoder_model.add(Activation(\"relu\"))\n",
    "            encoder_model.add(MaxPooling2D(pool_size=2, strides=2, padding='same'))\n",
    "            working_img_size //= 2\n",
    "\n",
    "        encoder_model.add(Convolution2D(num_channels, 3, strides=1, padding='same'))\n",
    "        BatchNormalization(axis=3)\n",
    "        decoder_model = Sequential()\n",
    "        decoder_model.add(encoder_model)\n",
    "\n",
    "        if compress_mode >=3:\n",
    "            working_img_size *= 2\n",
    "            decoder_model.add(Convolution2D(16, 3, strides=1, padding='same'))\n",
    "            BatchNormalization(axis=3)\n",
    "            decoder_model.add(Activation(\"relu\"))\n",
    "            #decoder_model.add(Lambda(lambda image: tf.image.resize_images(image, (working_img_size, working_img_size))))\n",
    "            decoder_model.add(UpSampling2D((2, 2), data_format='channels_last'))\n",
    "\n",
    "        if compress_mode >=2:\n",
    "            working_img_size *= 2\n",
    "            decoder_model.add(Convolution2D(16, 3, strides=1, padding='same'))\n",
    "            BatchNormalization(axis=3)\n",
    "            decoder_model.add(Activation(\"relu\"))\n",
    "            #decoder_model.add(Lambda(lambda image: tf.image.resize_images(image, (working_img_size, working_img_size))))\n",
    "            decoder_model.add(UpSampling2D((2, 2), data_format='channels_last'))\n",
    "\n",
    "        working_img_size *= 2\n",
    "        decoder_model.add(Convolution2D(16, 3, strides=1, padding='same'))\n",
    "        BatchNormalization(axis=3)\n",
    "        decoder_model.add(Activation(\"relu\"))\n",
    "        # decoder_model.add(Lambda(lambda image: tf.image.resize_images(image, (img_size, img_size))))\n",
    "        decoder_model.add(UpSampling2D((2, 2), data_format='channels_last'))\n",
    "\n",
    "        if resize:\n",
    "            decoder_model.add(Lambda(lambda image: tf.image.resize_images(image, (img_size, img_size))))\n",
    "\n",
    "        decoder_model.add(Convolution2D(num_channels, 3, strides=1, padding='same'))\n",
    "        # decoder_model.add(Lambda(lambda image: K.clip(image, -clip_value, clip_value) ))\n",
    "\n",
    "\n",
    "        print('Encoder model:')\n",
    "        encoder_model.summary()\n",
    "\n",
    "        print('Decoder model:')\n",
    "        decoder_model.summary()\n",
    "\n",
    "        self.encoder = encoder_model\n",
    "        self.decoder = decoder_model\n",
    "\n",
    "\n",
    "    def load_codec(self, weights_prefix):\n",
    "        encoder_weight_filename = weights_prefix + \"_encoder.h5\"\n",
    "        decoder_weight_filename = weights_prefix + \"_decoder.h5\"\n",
    "\n",
    "        if not os.path.isfile(encoder_weight_filename):\n",
    "            raise Exception(\"The file for encoder weights does not exist:{}\".format(encoder_weight_filename))\n",
    "        self.encoder.load_weights(encoder_weight_filename)\n",
    "\n",
    "        if not os.path.isfile(decoder_weight_filename):\n",
    "            raise Exception(\"The file for decoder weights does not exist:{}\".format(decoder_weight_filename))\n",
    "        self.decoder.load_weights(decoder_weight_filename)\n",
    "\n",
    "        print(\"Encoder summaries\")\n",
    "        self.encoder.summary()\n",
    "\n",
    "        _, encode_H, encode_W, numChannels = self.encoder.output_shape\n",
    "        config = self.decoder.get_config()\n",
    "        config2 = config[1::]\n",
    "        config2[0]['config']['batch_input_shape'] = (None, encode_H, encode_W, numChannels)\n",
    "        decoder_temp = Sequential.from_config(config2, custom_objects={\"tf\": tf})\n",
    "\n",
    "        # set weights\n",
    "        cnt = -1\n",
    "        for l in self.decoder.layers:\n",
    "            cnt += 1\n",
    "            if cnt == 0:\n",
    "                continue\n",
    "            weights = l.get_weights()\n",
    "            decoder_temp.layers[cnt - 1].set_weights(weights)\n",
    "\n",
    "        self.decoder = decoder_temp\n",
    "        print(\"Decoder summaries\")\n",
    "        self.decoder.summary()"
   ]
  },
  {
   "cell_type": "code",
<<<<<<< HEAD
   "execution_count": 30,
=======
   "execution_count": 95,
>>>>>>> update
   "metadata": {},
   "outputs": [
    {
     "name": "stdout",
     "output_type": "stream",
     "text": [
      "Encoder model:\n",
<<<<<<< HEAD
      "Model: \"sequential_9\"\n",
      "_________________________________________________________________\n",
      "Layer (type)                 Output Shape              Param #   \n",
      "=================================================================\n",
      "lambda_3 (Lambda)            (None, 64, 64, 3)         0         \n",
      "_________________________________________________________________\n",
      "activation_39 (Activation)   (None, 64, 64, 3)         0         \n",
      "_________________________________________________________________\n",
      "max_pooling2d_14 (MaxPooling (None, 32, 32, 3)         0         \n",
      "_________________________________________________________________\n",
      "conv2d_28 (Conv2D)           (None, 32, 32, 3)         84        \n",
=======
      "Model: \"sequential_7\"\n",
      "_________________________________________________________________\n",
      "Layer (type)                 Output Shape              Param #   \n",
      "=================================================================\n",
      "lambda_5 (Lambda)            (None, 64, 64, 3)         0         \n",
      "_________________________________________________________________\n",
      "activation_17 (Activation)   (None, 64, 64, 3)         0         \n",
      "_________________________________________________________________\n",
      "max_pooling2d_7 (MaxPooling2 (None, 32, 32, 3)         0         \n",
      "_________________________________________________________________\n",
      "conv2d_15 (Conv2D)           (None, 32, 32, 3)         84        \n",
>>>>>>> update
      "=================================================================\n",
      "Total params: 84\n",
      "Trainable params: 84\n",
      "Non-trainable params: 0\n",
      "_________________________________________________________________\n",
      "Decoder model:\n",
<<<<<<< HEAD
      "Model: \"sequential_10\"\n",
      "_________________________________________________________________\n",
      "Layer (type)                 Output Shape              Param #   \n",
      "=================================================================\n",
      "sequential_9 (Sequential)    (None, 32, 32, 3)         84        \n",
      "_________________________________________________________________\n",
      "conv2d_29 (Conv2D)           (None, 32, 32, 16)        448       \n",
      "_________________________________________________________________\n",
      "activation_40 (Activation)   (None, 32, 32, 16)        0         \n",
      "_________________________________________________________________\n",
      "up_sampling2d_2 (UpSampling2 (None, 64, 64, 16)        0         \n",
      "_________________________________________________________________\n",
      "lambda_4 (Lambda)            (None, 64, 64, 16)        0         \n",
      "_________________________________________________________________\n",
      "conv2d_30 (Conv2D)           (None, 64, 64, 3)         435       \n",
=======
      "Model: \"sequential_8\"\n",
      "_________________________________________________________________\n",
      "Layer (type)                 Output Shape              Param #   \n",
      "=================================================================\n",
      "sequential_7 (Sequential)    (None, 32, 32, 3)         84        \n",
      "_________________________________________________________________\n",
      "conv2d_16 (Conv2D)           (None, 32, 32, 16)        448       \n",
      "_________________________________________________________________\n",
      "activation_18 (Activation)   (None, 32, 32, 16)        0         \n",
      "_________________________________________________________________\n",
      "up_sampling2d_3 (UpSampling2 (None, 64, 64, 16)        0         \n",
      "_________________________________________________________________\n",
      "lambda_6 (Lambda)            (None, 64, 64, 16)        0         \n",
      "_________________________________________________________________\n",
      "conv2d_17 (Conv2D)           (None, 64, 64, 3)         435       \n",
>>>>>>> update
      "=================================================================\n",
      "Total params: 967\n",
      "Trainable params: 967\n",
      "Non-trainable params: 0\n",
      "_________________________________________________________________\n"
     ]
    }
   ],
   "source": [
    "codec = CODEC(img_size=64, num_channels=3, \n",
    "                compress_mode=1, resize=64)\n",
    "codec.decoder.load_weights(os.path.join(model_path, 'model/catdog_1_decoder.h5'))\n",
    "# print model summary\n",
    "ae_model = codec.decoder \n",
    "# ae_model.summary()"
   ]
  },
  {
   "cell_type": "code",
<<<<<<< HEAD
   "execution_count": 31,
=======
   "execution_count": 96,
>>>>>>> update
   "metadata": {},
   "outputs": [],
   "source": [
    "#建立解釋器=========================\n",
    "mymodel = KerasClassifier(cnn_model)\n",
    "explainer = CEMExplainer(mymodel)"
   ]
  },
  {
   "cell_type": "code",
<<<<<<< HEAD
   "execution_count": null,
   "metadata": {},
   "outputs": [
    {
     "name": "stdout",
     "output_type": "stream",
     "text": [
      "(25000, 64, 64, 3) (25000,)\n"
     ]
    }
   ],
   "source": [
    "# # load dogs vs cats dataset, reshape and save to a new file\n",
    "# from os import listdir\n",
    "# from numpy import asarray\n",
    "# from numpy import save\n",
    "# from keras.preprocessing.image import load_img\n",
    "# from keras.preprocessing.image import img_to_array\n",
    "# # define location of dataset\n",
    "# folder = 'train/'\n",
    "# photos, labels = list(), list()\n",
    "# # enumerate files in the directory\n",
    "# for file in listdir(folder):\n",
    "# \t# determine class\n",
    "# \toutput = 0.0\n",
    "# \tif file.startswith('dog'):\n",
    "# \t\toutput = 1.0\n",
    "# \t# load image\n",
    "# \tphoto = load_img(folder + file, target_size=(64, 64))\n",
    "# \t# convert to numpy array\n",
    "# \tphoto = (img_to_array(photo)/255.)-0.5\n",
    "# \t# store\n",
    "# \tphotos.append(photo)\n",
    "# \tlabels.append(output)\n",
    "# # convert to a numpy arrays\n",
    "# photos = asarray(photos)\n",
    "# labels = asarray(labels)\n",
    "# print(photos.shape, labels.shape)\n",
    "# # save the reshaped photos\n",
    "# save('dogs_vs_cats_photos.npy', photos)\n",
    "# #save('dogs_vs_cats_labels.npy', labels)"
   ]
  },
  {
   "cell_type": "code",
   "execution_count": 35,
=======
   "execution_count": 97,
>>>>>>> update
   "metadata": {},
   "outputs": [
    {
     "name": "stdout",
     "output_type": "stream",
     "text": [
      "(64, 64, 3)\n",
      "class:  [1]\n",
<<<<<<< HEAD
      "Predicted logits: [[-0.97723734  0.6403261 ]]\n"
=======
      "Predicted logits: [[-0.9772377   0.64032656]]\n"
>>>>>>> update
     ]
    },
    {
     "data": {
      "image/png": "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",
      "text/plain": [
       "<Figure size 432x288 with 1 Axes>"
      ]
     },
     "metadata": {
      "needs_background": "light"
     },
     "output_type": "display_data"
    }
   ],
   "source": [
    "# choose an input image\n",
    "input_image = cat_dog_data.validation_data[image_id]\n",
    "print(input_image.shape)\n",
    "plt.imshow(input_image+0.5)\n",
    "print('class: ', mymodel.predict_classes(np.expand_dims(input_image, axis=0)))\n",
    "print(\"Predicted logits:\", mymodel.predict(np.expand_dims(input_image, axis=0)))"
   ]
  },
  {
   "cell_type": "code",
<<<<<<< HEAD
   "execution_count": 36,
=======
   "execution_count": 98,
>>>>>>> update
   "metadata": {},
   "outputs": [
    {
     "name": "stderr",
     "output_type": "stream",
     "text": [
      "Clipping input data to the valid range for imshow with RGB data ([0..1] for floats or [0..255] for integers).\n"
     ]
    },
    {
     "name": "stdout",
     "output_type": "stream",
     "text": [
      "(64, 64, 3)\n"
     ]
    },
    {
     "data": {
      "text/plain": [
<<<<<<< HEAD
       "<matplotlib.image.AxesImage at 0x7ff74828bf28>"
      ]
     },
     "execution_count": 36,
=======
       "<matplotlib.image.AxesImage at 0x7f8decb9d400>"
      ]
     },
     "execution_count": 98,
>>>>>>> update
     "metadata": {},
     "output_type": "execute_result"
    },
    {
     "data": {
      "image/png": "iVBORw0KGgoAAAANSUhEUgAAAPsAAAD7CAYAAACscuKmAAAAOXRFWHRTb2Z0d2FyZQBNYXRwbG90bGliIHZlcnNpb24zLjMuNCwgaHR0cHM6Ly9tYXRwbG90bGliLm9yZy8QVMy6AAAACXBIWXMAAAsTAAALEwEAmpwYAAA+NklEQVR4nO19a6xkWXXet86jXrfus9/MjGAcJrZwHMCaYCxbFoZgEWKZPxbyQxaJkOaPE2HZloFYiuwokfCP+PEjsTQKjvnhGPwMGFm2yRhiO7KAwWAbGGDwMGN6Znru9OO+63EeOz+quva3Vt2qvjPdXXeg1ie1ep+7d+2zzz5nn7PWXmt9S0IIcDgc3/xITnsADodjMfDF7nAsCXyxOxxLAl/sDseSwBe7w7Ek8MXucCwJbmuxi8hbROTLIvJVEXnPnRqUw+G485AXa2cXkRTAVwC8GcBlAJ8G8KMhhC/eueE5HI47hew2fvs6AF8NITwBACLyQQBvAzBzsXe7K2HrzBYAIM1SVSdcFv0CSpPjBZBQ17oP6iRNdf9JOqMP87Krq2pSLgaFquv3e5NyWcZzi+i+hcab8KAASKKPZ42Fy3VtxkjXHUxdQDwevY9HyPJctcvyeOuzTNclau54TFMjnlHWqKtYV5aFqSsn5aqsVJ29v3F8er6zLF6Lve8MmT31J4ftJHCRD+Z9RGXmIdfYHuaNvypHrW/s7OLg8OjYlrez2O8B8HU6vgzgu+b9YOvMFn72538aALC53lV1vJ6bmX4guu3OpJyR5tHvH6h2WSNe4/rGpu6j2zx2TFWlH7DD3b1J+eknrqi6L33xbyflazcGk3Ij1303Gq1JudXWdc1GfBjtzSyr+HAXRVwEvaO+HmMvvnT6R0NVx4tfWnHezl+4pNptXTw/KZ89/zJV111bmZQr9WLRc1XRQrVXw8/64DCO9/q151S7vWvXJ+XdnRuqrjzq0VHssN1tqXbnz12YlNfNc8ULhJ+xZMYHZHSm2YsxSfTLhF/KVRnnow7mRcXTY1Yt98lV9kMkGX9g9NI9uD6aq//63z+AWbjrG3Qi8pCIPCoijx4cHN7t0zkcjhm4nS/70wDuo+N7x39TCCE8DOBhAPiWV94fzp4ffXFXVvUbOKevuYj+kq2t0pc9iW+75Gig2oU6fuWSNV2XtON7LSU1wQgRGPbpjZz3VN3eYZQkymEco31j5vRCLir95U1InLYifUFf0WoYv6IBpWrXJAkmTTuqriBROG2245g6RvrI49cxa9mvVSwLf8mM6pXW8cprIyFJiGMswtGkfGDuWVHHa0uCno+crjOhe9Zp6i/7Gn3p19b0fCQJqyE1/V3fNaWQzJGXxfyOVZSqinXBym1zv+xxGbLaF4x0UJFklSZ66VaroxMk6eyx386X/dMAHhCR+0WkAeBHAHzkNvpzOBx3ES/6yx5CKEXk3wH4UwApgN8IIXzhjo3M4XDcUdyOGI8Qwh8D+OM7NBaHw3EXcVuL/YUiT1NcWN0AAHQ311Rdp0v6X2J01HYcppDy0+ivqHa9XtQNQ9C68pB2uhukK9fQumYhsV2/0nsH13u7se4gKvuNXGtDB0nUS+taXwubhtLMmOyozFantN1Q7ba6W5Ny3tL6K+t/WRb19Lyp+0gGcX6GV6+puoLaZg3S9Y3Ji3ecq2DNZvFqDg7jjvuNvau6j6N4z/TuPtCkGWmkca+jlenHNic9N6mtjYP2Pmi8Vqee2oHnMaru9HXWykR6vKlwBN5mt/3T79iMO0dnt+M9ibeMu8s6HEsCX+wOx5JgoWI8JCBpjUS1FNohpiAngaLUJq9kGMXKkERR5qjUdvujkkxjA23i6RSx/24j9id9LQ6VJFb2do9U3WA3nm//INa1Ui1usVmkMqJd2ozi6IoRz7NmVEtqiSJtnmpRPSenl62ts6qu04nmtpTVlVKPo2Zznmj7o7AXITmK9He1WrO3F+dgcKTvGUuZR/vxvgyv7+hxkKpUD/U4EpqrPOVnQJ8KZJarYa6FzHnK0XHqMzfHU1CJ6rqqDseb9qa832hCgjm5cB8kqifmZHwYEqsC5pPSLPiX3eFYEvhidziWBL7YHY4lwUJ19lCWGIwDH4apNmEMn4k6X2F8WDc3NyblivT5Gze2dR/KNdW4opKLpXRXJ+VkqF1AD/f3J+V+X+8JFKSTleQmOdTGGSRkdkrM+7RFQTIra1uqrtOJ48rInNfKtQvoKrkadzva/NggPRe0v1FnU4rupGSCzVDTH/r7Uad+/pqe76efjkEtuzt6D0Z5Alds6tTmtYbQGIe6judbyOzXGJpnh/YjmsYVNaWIPo6mNJ65OnpQpjXuOH4bDMT3XvnEmi5o78BGQqrNBNofMF2o/QGzK3AzCnNesJ1/2R2OJYEvdodjSbBYMR4BZTUyiRXlvqo7JGIIWdFicaumeF82BZVadAwlxXIbU9OwiqpBj7ka9o0YfxDj2fsmjlxKapuQeAjdR0amvVZLy2IdEt0762dU3erGeqxrRxNaq6XJJdrk4cbx8QDA3A0J2aiCiYaqSbQOtRWfo6ja68c5ONjX9+xor0flHVVXKamYziVaDGbtwlQhJRNgRR0mmVavDs9GNaddzo56k4xZIkzUG3lOipGFWVSvjWw9+zpNZBuJ9WK+sSnrFKps4tkVOYsh8FgZLeVkDjmKf9kdjiWBL3aHY0mwUDG+DgFH9UiMD0F7uB2FKC6W+9obK8uJrIE8h4aF7oM3+KuBDoQpD0lMI9G06rdVu/2jKKr2enocNYl+KYllluGoS0QRmxurum41ivGbm7qusxZ32VttIpfI9W1iggLLVZCReMdin+WxK5lOqdbWj6KM89ofRC+5sjBEHHTdmaFJ4qCQIf3MUi0NyJJh2eMyEuMHdD/TVBNxnDuMQVVhw4q+dJ9obpLUjFeRUBh9gq4zz7XXYzqDdq4215kIU0/pm5ZRkE9Kdam9ueSp2V7Rz06o0vH4tMqnxjCzxuFwfFPBF7vDsSTwxe5wLAkWG/UG0mvEcJWT7hZSbQqqyJ6kKIqHRockc1tVGJKBA/IEuxL18upA61a9YdRX93b0nkBGTdkTLhNj/mLT26rxfjsbdS2mbAaAbpdMaoqUwujbpA+L8d7TXMTcxWwvPxtGVhfxh0U/znHV1/elJg740pKA0L3oUzTbFMMy3dA8M2YtJrOgMe5me6rdlWfjY9wwVM9bF6I+35WNSTmzpJK0AREqPd8Z2QcbDUNJTvs4/GzaaMdEZn9XM9o/YJ3d0Pkr7v+NrQ1Vd3ObZR5vvn/ZHY4lgS92h2NJsFAxXpIE+Ti7S6OpTV7tM1G8rZrac63RjnV9CrgYVFpUKgbxd6uZFpGPEEXyr1yOiWwOr+o+AnkgyUDLUcMQp4tFztyYnXLqo2FMPNmc1FDaLEWeX+aVzIfWG0sRLSjSBcMRxwdmHMx11iMSkEOjNg2GlMFmqOeR1ahApiwrxs9UO6ADQdjMx6ZBAHjm+RiQU1lvxlac/3abeA+NuJ8TJ37T8NKndAOaTS3Gc6oslTbLXAunqBITJMMc9uxpxzkSACCwOrGi18/h2JQ9L0WUf9kdjiWBL3aHY0ngi93hWBIsVGev6gr7hyPu9fVgTCTnYsRXuqLzwHEEUQEyuxjzWka5x1ZaG6qutxvb7u9EXej6ro6cyyWav7otrZ911lj/IwIM44qak6ur5XVnynOjNipado7WsmYbITfK2piJmHiCzT82FxsfFoavvd+jSLedaKbc39Mmr6N+NKkNS2Me5DTNtLdi85exvlqWRpel+WHyioEhEx0WpDdD89I3MpqPQSx3z+pnrNPemJRXu9pcmq3Ee8jRceO/xDHy/bN6ecrmUg2RGXXGD7tPefIOhob889o4mtSsCdXdzJrJQOQ3RGRbRD5Pf9sSkY+JyOPj/zfn9eFwOE4fJxHjfxPAW8zf3gPgkRDCAwAeGR87HI6XMG4pxocQ/kJEXmH+/DYAbxiXPwDgEwDefau+quEQ+8+MszqvaRl2rRNFmSwxkUUU9bXejGLTfRc0h1tJXltS6f6ZOyzhFFLGeywh2bHR0OLc1lpUNVZWKerIiMEp9dE23PAtIp5YaWsRf2WFI91iOxtBxUQOhTGpcQRbRZ5rZWkIKijQrTB1A/IiPCJSkX7fRBKqU0+RrceS4k7TqDltlCGGUBI/qUq1MUk1ybVxaHgDn7wcjw+O4nVe2NfC6PpWvLbi7IaqWy0oZbhJW80pnDki00b3MebVMU+eVQWOenQ/DU9eORiduyxNDnLCi92guxBCeHZcvgLgwovsx+FwLAi3vRsfRq+pma8qEXlIRB4VkUcPDnuzmjkcjruMF7sb/5yIXAohPCsilwBsz2oYQngYwMMAcM89Z8PewWj3OyT61AcUdFKaneMyp7qjKKY0g94tzxBF3+s7mi/t8Bp5gh2RyGZSDmWUaqk30OM4oN9lTdrZNV5VDRbHG1qMb+ZRDGy1dF1DRT4Qn9kUFxl5XFk1hETfUqUmUs00uYThkuY56fXiNR/19S54RdyAU2mR6A9hTmol/l1lgnqyGcEpltOhJitMr2fE2F5svB1itlqbMbYmz7vmij5Bs0nPqphsuMIWD+a4g8Ec1zaaFJUmylJOK4JBc88OS9vVFF7sl/0jAN4xLr8DwIdfZD8Oh2NBOInp7bcB/DWAbxWRyyLyTgDvA/BmEXkcwL8cHzscjpcwTrIb/6Mzqt50h8ficDjuIhZMOAnsj4kRam3FwVU6TrZ1quSjIupaPYpsaxt9GEUUVK5e0Z5U289emZT75DUXgumDeLuLvvZSulbTMUUgrXTOq3bNRtS9m5me4gaZ1FLLVMkEkSpizXidpRyhZaK86HwN0ktttFmPiCh616+pOuZJ598pnRRG3zYRiFU9W09X4C5NTqaadXjSyxObfprOVZgpbZCCXxFh5tXdG6pdSmQkq+vaJLreJe9Ocz9V2ijmkLfhZ5z+CQbqd7RPMRUGSO1sH8W4cs5ku2+8w7Ek8MXucCwJFpv+qRaU/ZGIe2T4rauSzFemriTzj4QYtJ+mJsikZF5wbdPvE7nCYT+aLdptfa46j30OTVokOYzHRw1SBc6sq3brqxcn5dWuJtFgsTs1kTBKZCYRLjEcdxw8kqWzb6HiQocVs6NKYsdRh3idQ3K1s7xq6lsx24FuboUicpgyqZEqwxx3tf5GcY+JscsFmrvhgO7nQF/L9SSqMu1MjzElz771c5qvvd2KATXMVWfTM6lMrVbCV2ZWMuWZuSrq2QFFdTK+tqkMtBH+ZXc4lgS+2B2OJYEvdodjSbBQnT3JUnTHfNcra5ow74FX/tNJefOi1oGHVXTTFDLRtZrmXUVq+vbzz6qqvBHJBp96JpIwlIXRhzkfWG30eTZrULnb0Xrc2bNnJ+VG00TwMSmF0etYRWuTKSg1enngCL5kNqHlkNxej3o6GixwjrWG4fAn85KOuLNc6NSfSRWsaOmZ4AEvAIqMkgg7rM5LQzRepIpsomBOdtNHMYzm3svb2i24oHPfB72Pc+YMkVG2475TwxBfKhfnxOrzbHOlsVuSUJW2ejbR6Cz4l93hWBL4Ync4lgSL5Y2HIK9Hp1xvavKAs+fvmZRfec/9qi7kJNsUsZwZ08Rzz0Qvua9f1mL8wR6Zk3pRtC5TLSo1yDyTmbqU+Mw6xJO3vn5Wtdtcj2qIjXorCkpNbSKvmLigSRFxmfHaGpZRl7EEB0ymUJNX2/6R9kq88fzupHz1Oe1Bd+O5GMRYU8pmm1pI2BpmzHIyU3Q/uSA/yyxnowA5us8SpwfixlPDN6rRgMy7g76+lquI85OJEa0pVVZ3M6penbZW7RqNeL7MmJbZk1I5FAZ9Lq6rrXPdzchF96BzOBy+2B2OJcFCxfgsTbG5PhLfu801VdcYUgBAaXbIiferFBLHjej49JUoun/qr/5C1X3hsa9OyrsUhbNpqIErEpY6XW0xOLO2MSlvbUb+u7WOSQlEO9PpFGcZief17Om3O/CMQNddWg46UhN296KX3/Wrz6t2289GUf2pp6+ouuevxyAR0pqQG+tBpQgqNNQO85wUTy8Os7fjayP6omIvPzq5kYOH1GXDTH05jGaeZ69qcoyCdt3P1/GZrjb0fWd+wbbVZOheq5Rg1ktujtpUjQlf7gZ5hcPh+AaDL3aHY0ngi93hWBIsVGfP8xyXLr4MALC1dUbVddY34kEwJinS53EUdZW9w13V7urlaCLZflYTTha70YNsjXQhMYQJUkWdN8+1J9/qZjSnnDkb6zptHdnGrA6JUVKZeEKMCUaRNJLyVRn9UulrJu1SNYxzVw6ifln0tS7LKZR6+yZC8JDMdLTHEMzjUofYf232PlTE1h3R0+eBCCpMYB5H+wX6tlndVm2RmNRkvV6c02Sgf3gtXI8/45TWpTU4xmckT00CJVLGmT/UPjuMYL7T9eSZdtObw7H08MXucCwJFizGN3Dh0liMX9epm9rNaJpIoAnqhMTY/n7klrv2tSdUu93L0by2v6vNScMeBdMgis+FCUpIqyiaBsOnzkEmKxT00DS2moxMVGIDRKhsAyJYtlTedcbMErjOcOzXZbzOUMcyi9yAJrYQwz0vZBIsSc2xpk72TpvKEmtdvBYFa9biABr26jPDS2g+aui54jlopMZk14sqzzYRgiS5SfvViqpBp2W47TMKSmLyDUvEQeOY4qc7wXT7l93hWBL4Ync4lgS+2B2OJcHCTW8vu+8+AMB6R7vLrqzEtLih1HztCaLu2ZKo2zdXtMmrGERd//oV7R56o4y6VbMRed67lhiCdLdg6oQIA1h/T0wKYc4jlhTGfZP0MMmseYbMckoJM+04h9tAmylLSllcH8ZyODR52iiarRzqPZKCTJOB9Pfa7GGwCbCypBEnIFO4G5BpNscJeEyFJdKnubcjT5Q7rjbLDfqkf1O03H6mzcK7pLO3GtoNu71CpBeK7MSY16gcEuMuW98Bd1kRuU9EPi4iXxSRL4jIu8Z/3xKRj4nI4+P/N2/Vl8PhOD2cRIwvAfxMCOFVAF4P4CdF5FUA3gPgkRDCAwAeGR87HI6XKE6S6+1ZAM+Oy/si8hiAewC8DcAbxs0+AOATAN49r68kSdBujkQY5usCgITS4taJrmNZLF+J7TrntQhbEYlEr9DeaeEo/i7tkjjeNGIfR0mZiLIhqQk9Sl/cH2gRuVlRFJNNL0VdSqnftYG5xdnTDpaLjKLeCq3yDA8iv97wMEa9DQcHqt2giGO2qZvYLAdhkd6Y3lSKJy0/npIUf2LY9EycamrKFKnMcvqZ46YZ9VmVWjXaOYjz31zRHovM3yfE4W/nkA+DMdtGleoOedCJyCsAvBbAJwFcGL8IAOAKgAsvpC+Hw7FYnHixi0gXwO8D+KkQwh7XhdFr/dhXiog8JCKPisij165dP66Jw+FYAE602EUkx2ih/1YI4Q/Gf35ORC6N6y8B2D7utyGEh0MID4YQHjxzZuu4Jg6HYwG4pc4uI+Xm/QAeCyH8MlV9BMA7ALxv/P+HT9AX8jEBY6PWedqEhlIZE0+FaKr4yhPRJfZLj31Wtfu/f/3FSfnvHtcpeVsX4vnOUmRYB1rnrShaaedA1zWej5F0K60YYbe2qU0prZW4X5CkZm+iwTqZ0XOZM5xJVYa6XX8Qdb7iUPPBD3txzD2KCtzb1qSSh9ejlFUV1gx1PGllZexrnG/stExtLwyzyS5VimxjllMRZsbPNuNjic9wr2dskdejqbPV0Ga5Fj0ibTZBG2FZp/HW3d9kDZp3F05iZ/8eAD8B4O9F5HPjv/0HjBb574jIOwE8BeDtJ+jL4XCcEk6yG/9XmP1KfNOdHY7D4bhbWGzK5hDNRrXYSKt43DfD4qijx5+M0Wwf/qM/Uu3+/P99alK+el2LSmshirutDhE3XNT83izBFYfazNKnKLJGK4pbW+e0P9HGZjS7dFb0e5I5wi05YiAxmb3TiiNtqhns7sS6vqkrKeUTccVfo98AwM4hqQK1VjV0lisyr1nT291npVggFGO7quHrrE3uqSDHi/9945VYhni80tP3rCijN6nihrekknRsyUKqcizGO+Gkw+Hwxe5wLAkWKsYDUcwQHU+AlAIR6oHhJydpWiSKnEmivdPOkzi92t7QJ6ij6FSVsVwa7vY6j+Po1Xqnm2JMcHU37szvHBi+u4o8qQx5Rcbv1ykXKSJaoD4OdvU4niJVpr+jfRfKIorxN/Zi3c4NrdYcUoBOWeubUTNvBvEB1rC79owXlJ/1JQ7jXafUGjsHTDYRi1VlxHgmYOmboCRuS2qBTKlJfG6TjyCdGs0U/MvucCwJfLE7HEsCX+wOx5Jg4Tr7TYjxRGJLnNRa3wGZkx64/2WT8o/8xI+rZm+9Gr3mru7pFMWPXf7CpPyFv4x54CqzP5CqiDsb5UXeZDT8njHH9Aex3aCvzXecw43JMACgJmKLisKprpt0y4899bVJeXdbewomFDU1IF2wV+hbXVGq4dJE1ZVM4KFjraDxzaSnvzjw/KjZCXPmxpBxcsuMnoHU7Pcw8WqdaJ09HxNhypzT+pfd4VgS+GJ3OJYECxbjA8LYa6wujHhbRtG3bTi3Uzr8J/dfmpS//du151pNxBOHN3QQy5/9ZQyEeeJv/n5S3i41V916M/LarRd6HAV7k3FaJNFEGaA0zbUhGWCxL7WvWkpVndB7uG9Ugb2dKJ7fMIEwnKKpJAFxYFNI8Zht2ueZnnHLKbYrj0JTl/CckAwtiTWrUjovY3KtFedfrLN5BZKclqsxO1etZHze2d9v/7I7HEsCX+wOx5LAF7vDsSRYrM4eAsI4l1qV6HxXCemNGYzO3oz6JZP/JYbk4qiM+mtRaZfEAtFFdlBFU1a71u0yiX02VzUpRUUmtZwU7rW2brfa7cb+jHmNc79lqTaflBzVNJztpiqcA8yQIzLPe0FusFVp8peVsf9p4okZ5qQl1dnnY4bObmxgospmHpn/gmzQjaYhPuE8A5leIzfdpO151e9n1jgcjm8q+GJ3OJYEpxD1NpJZEkNeATIZFJkWrTmNrayQF1uh++jdiKLpM9uXVd3zTz03KQ+IT70cavG20Y8mu3bXEFuQSW1tPZroOus6DVUjI1XDcr4z13ptPOjIq62u4jjsTWpTiqC0o0W9wWEc45DIMCoj7hf0nk9seikas05C5WL8PCiiD/Md5Qi2YERtfkIqTqVt+sgyUmczfd/zfNSni/EOh8MXu8OxLFisGC8CGQeCJIn2OkuUY78WfYWCCqqEvdi0yLK/F0kkvvblx1TdlSefiH0QP1iSG6IMGkYz1/2vrmzE8lrkDWtaooJh3O1PM71TX5L6YskJKqKMrig9U6ulb9PZszHN1WCgg2RK4jfrE09ZatQmzQE4e74d8xHA3m80b4ltF+s4UzAQ+eMAoGI1z6hNSvyfEtdvfc/8y+5wLAl8sTscSwJf7A7HkmDBpjeBJONT2pAvVkdspBil1akH1LAy6XMpkktMquRGOx6vNGI7SyDY6ZJ57cw5VXd248ykvHU2esl11juqHadRTktj1pI4jtKwbnJ6paridEF6Pi6dj+PoD7XOvrcbTYyHg+hRWJn5Tki/rAz5Bs+IzCg7RmDnw4qeJcPNgiyJz/Cg0Obe61djntRuI6bp6phgymY75krMUr108/wmecVtmN5EpCUinxKRvxWRL4jIL47/fr+IfFJEvioiHxJ+ih0Ox0sOJxHjBwDeGEJ4NYDXAHiLiLwewC8B+JUQwisB3ADwzrs2SofDcds4Sa63AOCmy1k+/hcAvBHAj43//gEAvwDg10964qkMpprAS9VpkaieUQbWtqI57P5/9u2q7vrO1Un505/6zKQ8FD0Fl87fOylfPHdG1a2vrcfyZjxXkurxDjmox5hZJGHvNK2G1ENK/0SinuUj6K7Hc6/tai+/NI+ZsyVE811mTG8hY/IKPY9FpSIzaOx6HN9U2Z9eNE6o6NBNHJbaVLt9I4rujSZlGz6r7+0mzX+jpWX8m5ba5HY96EQkHWdw3QbwMQD/AGAnhEkGgcsA7jlJXw6H43RwosUeQqhCCK8BcC+A1wH4tpOeQEQeEpFHReTRa9eu3foHDofjruAFmd5CCDsAPg7guwFsiExk4HsBPD3jNw+HEB4MITx45syZ45o4HI4F4JY6u4icA1CEEHZEpA3gzRhtzn0cwA8D+CCAdwD48K1PF2JOZJszi5V2mxaXXAgzGrI0tQFgrRN16uYl/R578mIkqsyIFKAyelZzNUawnTuvTW+b69H0kTbimHoDnYJ3SDpvZogeUTJ7oeGlF05qF+taLcMRnkdT39Hhhqo7eyaaBHvDaALs9Q1RBhF/iHELTsisw1yUtRmv8t6cup9cnO1G+qLMeS+lvQJ1Ozlq0Zoz4/FhrZ8XHMVJXmnsTMoHR+u6XX1hUrRf6cm9mDOhJ7GzXwLwARFJx+f4nRDCR0XkiwA+KCL/GcBnAbz/BH05HI5Twkl24/8OwGuP+fsTGOnvDofjGwCnQF4xEveCTa1E4sdUYmASj1IiYUgSHcBfEK9dbaLq2AsvIW+ytjEBrlBdq2HySpNoXdIoh5Xh0yMRrhzqiLKMouxq0VfKkWlZM0bLJYbkoiJT2ebZDVV3/8tfHodLHnpPPXNVtevtRbNcajjIhcxyVYjXVhnOP01sAVN3fPTWPAKMEyeXsu5p8zq5y5gV9VZZ3sAQzW1DM8iUjmvmBiyN2ZZmpDbm0nr8HE/RCRLcN97hWBL4Ync4lgQLFeNDCBOKZw4WAYC0ip5DhpNCBe2XCYkvRpRh0dHusudpFIu7RBFdZ1rcX1mhHf1MTw+n9AkU4GJ3Xkvawk77mk8vULBLwwREEMWdUiFSQ7CRkKy2tbqh6vJvideTNMlrq9Jzxce9I6MmUF1J3oFirCQVzUEpWsRPifY4VfTZek7ZWlFbywVTZvOpTTvWLiqTygozurhT4B34ku6L5fVjbpbEzFVN860faetlWs+qOpH64l92h2NJ4Ivd4VgS+GJ3OJYEC9bZa5RjXvYy0ZE/DZljyKE6ZVqwegpHaxndrd2OXmeXzr9sUi5Fpzxutsm7zvSfkG4lpGBnRu8vyGQyGBidvYjXXZrNiZSuMyNPvoYxI6ak9ybGu47HdYk88upat0sb8Toff/KKqtu7Fok7cz6X4SqvEa+lsqoyRXm1G7EPmw6LH8BqasJpv4DMkrXhwAdx/5e2DxXAd+e19jDjKNgoQ/quzuWKDMeb4QCgruOxmGfn5uG8K/Qvu8OxJPDF7nAsCRYrxtc1Bv1REMAw0dxpTQroF9FiK6fBqZWnnQmYYROPubLN1Uj4cOFiDCgoUy1mr6/H4JfE9MH9FyQ67h8c6IZkjrFeeGU123SYNGNbxTNuTZH0ihbjTdYk8fn8RuSXX212VbuMuOgHAy2D947i9YRB7C+3gTAUDNQyJrWUsoyukhifwnoUknddZlQSeg4Gw9mqUUWqgRgzqA6qurvuddo70Hi/yWyzXEr3LM9n91EVce6KUs/BzcCm6Yy8Ef5ldziWBL7YHY4lgS92h2NJsFCdva5r9HojU1cLOtJqhcwMiVG42Q22VhFUGomwOUz33+pEF9kNYsypM20CXO9sxP6bWr8saF+h34smuxuGbisj38h8SxMQtEmHb9kxEqlGm8pZaiL4OKWyMXmlNHftBuuCuo+XvyISazaaG6pubT3q9196/PFJebCvzZTdlMbY1Wa5jO5Fi84tldY120ScuLm+qeoqMl9tX9+ZlPv6lqn7nhgu/qDcq3HHob6W9EBO7bNoNg8F1ufThKPo9IAHAyIhPdQEGOU4fbnr7A6Hwxe7w7EsWHzU23AkrlctLaKUdZTN0ilvrCjuJmrINqUtBf6L8dAjKXZtjaLeUi1KJ+QNd51ERwC4uh0JIPZ3r1F5X7Vjh7ryYFfVVSSqrlzUHHfdtcgTvtKOonRl5L4heegFw1mfkhkqBUXOGaKMS8147gtbF1TdGkXL1Uc3JuXnb6hmyLPo5ZcacvuiiOPKOXLOiLcbG5HX78KFl6m6/jCKqrsHbKrVpk6ZI8bXSno2D9ZJQaKxlZJZXOfoPmsSZe+3tjHHdtvxuLsW73ujqXnja/IoLKc+07cmofMvu8OxJPDF7nAsCRYqxkuSoDHeFW82Wqou0G58ZaIqchaP5olUxGIQjIdRVcadTN7lPDKpeA73oqx6+dmvq7qvfe3J+Ls98jIzIuwKicF7WorHgE535tx5VZfSrrvkrLpoETzn85ltXyXGk0hrxUrexbekERcvRAvCv3jtqyfl/QMtxx8cxjk92tOqzPa1qPIktKu+taJzB3Q3o1rTbup5HJDHGFNVJ1Pb2awm2Ky5sfzi/efmkEao85HXo/U2pONOR6uOF85FVeYiPROrG9rrMc9nW2hu0hTOi/XxL7vDsSTwxe5wLAl8sTscS4KF6uxJkqCzMjLXNNuGkCEj0j2js3PUWyAO9cqYk2r2LBOtswtxyrMOOTzSOvtzz1yflJ/+R52+bu9aVMAHZBYSQ6bQyyjCyeh4VYgkGvf3tBdUmrWpHPWzxOjbSR6vuyrn8O/PzroEVvnsnsC59aizr35r1PsPD/Uew861vUl5+5omwOgPY12gQW2cN2mwNzbigUmfvbe/E/sgMhLrWcbzP80LccKot9kObmpvaCptNRNaEslmZrnhafy5IQFZXY0mtk1KE96mFOEAkBHhiM3jXeNmPobZOPGXfZy2+bMi8tHx8f0i8kkR+aqIfEhEGrfqw+FwnB5eiBj/LgCP0fEvAfiVEMIrAdwA8M47OTCHw3FncSIxXkTuBfCvAfwXAD8tI/vGGwH82LjJBwD8AoBfv1VfN80mqXnN5GQysmmR2E7Enkh1ZTi61KER8anPioINDg6vq3b/+PWnJuUr29t6HKxdCHHVGbHy6Ig8+cwYG3n0BBtq2njkeTRHMkfcdFokEmmD7qQmEyOPyprehJg5xNyMsiZOtwGbRLXKw6rAGnHxA8Cls9FDryLevW5bP3KtJmWMNWI8p+liU1aYyfx2HE5mcJsbqMLBV9a2xXI91WVG3k8pOCozul1G18ncck3DbdhsxuejmlInbh3lc9Iv+68C+DnE5+cMgJ0Qws0n4TKAe07Yl8PhOAXccrGLyA8C2A4hfObFnEBEHhKRR0Xk0evXb9z6Bw6H467gJGL89wD4IRF5K4AWgDUAvwZgQ0Sy8df9XgBPH/fjEMLDAB4GgO/4jlctOMemw+G4iZPkZ38vgPcCgIi8AcDPhhB+XER+F8APA/gggHcA+PCtTxcAjCX/2ujbiMeF0Q2F9NKaTE1WV2ZdiznNR78j0wfphtVAv3/2dqLb5/7Bnqpjcxjr1zBEHANy1S16xh23SQQYQ0MaSPp9i+xmbNIBDAGnkc04VTDr6bXhGS94soypc1jHcfVJf7fplptkYpS21tnrcxuxe7JdNQxhB+eEKy3jg9pniNdlEmkrXbm2m0FstqX+px4dZV8zPdDc5Q1DrEm6MrvENnM9yg6ZS7vdjqprdmL0YLsd56e5oueUXWSLWj9XN/Pz3a2Uze/GaLPuqxjp8O+/jb4cDsddxgtyqgkhfALAJ8blJwC87s4PyeFw3A0s1IMOIaAsRqJqYfjacUSc7KX1fmMPOurOklcwqUOlU0JXLI6SKFYbT6TA6YMqQ4RAglBJouNUoBGn6TEkcZxuue6bMQ7jsUjkubehTCoDlq1jMXZO6iNWgUKpzXfMbc8pmVJzpUJc8ewBCQBNMh0y+YbAen6RaA0NHjOXk9TOONVZVYCEfpU+6RiD5kyQ2UwS/UxwNm2+1+sr2mx2YTNy+G+d156IF8/FyL8N8ijMc708+Z5ZL9OolzgHncOx9PDF7nAsCRbLQQegHsvhhcmyWhdRdK8qLVYqTyr6WTBeYRz5URvxmcUeITHVUjEPichhYF6FKWfiJHHcBpIkJHKmZnc4b5BoaraVa0W+wdYKo05Q/8GIrYqDTfEqzBbj+4UR44ec/ZW6MJ5fLE6n5lFqtaO1YkjXNRzocw1JvRoaL7CC7lNK4281tYicUJbbpiFnK4gAo0/jrczzVzA5hhHVU3pIMptui3bdW2nsY9XQYq8T3+Cley+quvMXLk3KK924A29VtIq8GW1Azq0Z6PzL7nAsDXyxOxxLAl/sDseSYLGmN0TzivV+Y0LI2ujsQrp4KOa4CKlcxpaXPv5uSOcuK92fqMglo6OSns7eaXbrQL1CLQEiD9fMARM01KSzBxvBp3RKo7OTOYwjuUJl5oP09P6hTp+Nis9N4wv220Appk1Vnca6inT23kCbG/sDMieZqDcm5mDza8d6sZGZz97PwZDmpyCd3bRL6PkwKjukiGNODJFkh9JXba1uTMprlCIcADbJG25lRXvQNSipgXD0p7lnguP3MADt5TcL/mV3OJYEvtgdjiXBwtM/DcdEBgPjLtUg84k1qanDOdIKi4tFrcXFklSDFmU6XV1bUe02tiJX9zDoYINySGJrmO2NldO0ZkY0zSk7q+WbH7BoPYznFmN6Y5MXe7EBWtwteT5KHXhUFExKoes4uCMVDiTR7Tjooir1HKh7Qaa8oVHDDimt0/6+Vt92dyJ5SKCsuXlLB4h0uuTJl2sRuUfnzg4i518x0A9Svx/HkZggrYTSNWW5fnDX1qO4vr4VzW1nzmr+uI2zsW61q8ffpOAXNu/WZr5rUvMqM8abpsQ7wkHncDi+seGL3eFYEvhidziWBAvV2eu6xvBopHuVJmVza5Vymxk/UmHfQI54st6ypOfWAx05x9FJa5tRn7poWB/vuzdSZ4mJrrpxNeZ36w+j/pQYu1OgabX8hBlFMrFeCwC9fhxLox+vJYN2D83aUe+X2u5vkFmR9PShIcpgl2Sbl4yh6CPMufh31kxUkim1pHZ5W+vUsht18Ss3NPf8PqfMruJEtptGbyYikc7mhqpjnT2ncVwL2tyY0fzYPZh2Kz6blza3VN3mGYpmOxP539fO6HadlXjPmi2d5zCjPSS2oGV2r4b2Y9h1FiAz5Rz2Cv+yOxxLAl/sDseSYOGmt2IsNgeTsplhuc6YVztwZJsRHZOMTVKmjzwerxB3+da69nR6+b0xAikYQoa6JDHzBnmZGXMSU8ZlmRbF2k023+l37RGJkhlFAbZzoyZUzAtnw5/iyfuUXuqop/n0wB6LhryiYO9DUjVq48mXkViZGDMie/JxlFqWabPTsB/H2LqiRdMhPSLMuz5lLiWzVteI8exRl+ekNok2q+4HIrkw19klj7fNizp91csuxWi2rTNkXjP8cSCe/mkSPYrCpChGm/YrJRnfzvckItFTNjscDl/sDseSYMHkFWFCElAY0bcYELlEasQXCqqoabexNAQEjMSkzsmE0+/EurypqY1XNuJO/Vahs6zu3og7uFUvZnQ9qk0ep4Rpq2fTIw+H2stvbz/SWGcN8qpK5ryTE30LeeZ6h9F6sL+vE3SwJJnY1EF0PTV52tlLSTtRVGXPQADI1Y4zc7jZR45UksEDqmY4IK852nFvtLqqXaNLFN9NQ2lNl9bOowi+luvno7cZd9I5zRIAtFpRbWh19e84qKVNz1JuCDYqJhmR2VaNQBYP69nI4n5iSFHiPZwtx/uX3eFYEvhidziWBL7YHY4lwYJ54wUYmzhqowAqckHDAlkwfzupMVOkknQcjD5fZWRCIu83ThUNACvteLzR1Saei2c2JuUkRH24sbuv2qEi/TLVewJt0vESkwqpIB1tQNfStBFOJXnhFdqE1BtGPXd4FPccKkMakbQoUsxyuSsSy3khh0Q4melHKSP9lc2llUlb1CG9/8I951Rdml2YlFvNeC+sWZVJJYfGjMjecHlKunfLemlGfX61qyPWOOXTVIQg2VlbHUq5ner+WRe3RJIzY9UsKwqTnFpilbFZbh6FxUnzsz8JYB+jDOVlCOFBEdkC8CEArwDwJIC3hxA8TavD8RLFCxHjvz+E8JoQwoPj4/cAeCSE8ACAR8bHDofjJYrbEePfBuAN4/IHMMoB9+55P0gSQWNs1mgYU43iVzeBGcyXpiR3I7Mwr10VZps3WLTLDA9cTidY6xh+8nuiWLm2GcXP/q7hcCMTSSPX19kgk1qro81ELcrm2aCAkcqYq1jlOdrXKsTOtejlx3xpjaYh0SA+tjrXEylktuy04vgT821g7rTUkGiwExpn3rXqFZ85NWZQvk/MDZgar0Sh47Qy46AgqpwCaLqiRfWUApRyY7ZNyIPRBgOxVTTl31mLq/L2nENayOL5lBTPabTsCe4cB10A8Gci8hkReWj8twshhGfH5SsALhz/U4fD8VLASb/s3xtCeFpEzgP4mIh8iStDCEFkimMVADB+OTwEABcunj+uicPhWABO9GUPITw9/n8bwB9ilKr5ORG5BADj/7dn/PbhEMKDIYQHNzfWjmvicDgWgFt+2UVkBUASQtgfl38AwH8C8BEA7wDwvvH/H7716WRiIgiVNSeRm6Axz6AkfYR1JsOVXRFZQ1maPpTOxJFcmtRhUEYduOppM05NhBJJL5qycqvH0X5Eq6X1vybpwJ2O1udBbsL7ezFK7cgQcaTk7lsas9yA0kC3GhSVZkKtmIu+Nsphg3Rg3lvJjMmL3Xht7rSKzGEV7YPUlb4vgWypmTGDcmRXSnqzzZ/Hj4GYZyKQzt4g0o9W0xJIxDmtpwggZpsfOUKO9fna5gTgHqYStVEOQc5HYLzBlVpuVXbcGicR4y8A+MPxBkkG4H+FEP5ERD4N4HdE5J0AngLw9hP05XA4Tgm3XOwhhCcAvPqYv18D8Ka7MSiHw3Hnsdiot7pG2RuZqQZGzK6IyMHyZSt+deYfsCltSVSvg4lEI0GnonKv0LLS7l70QNvd3lF1V7avTsr7u7GuMuJWTua2jol+6lB01bnNs6qOxfjnrsX++0blaTdj1FeroftHwiZGijab2j5lEd8IgSSBhorFcdMFp3gy94zTK3HqqcpGCJKA2zCRaGnOpBexbFMqc5ore51ZyqmV6HemD76F87jXrYTPIj+L7sE0lDlEHyzWs7kxBL08mYhDrAnz5lpw8gqHw+GL3eFYEvhidziWBAvV2YtyiGe2nx6dmHRjAChJj+kdmigyUkRYjclN6t6McoDlxgU0ZbdVMlcd9UwKYcoHVqXa5BXqWCdJ1D0Tq8jRqSujAdbk+mvNZmyuKolwMre88aSYJibyLyc9ms1VMOYqtldZ1njO6VZSxFo6xwV5Skdl3ROzoxHZVJYYl9ucogItM4vuJPaRG128QcSmga+5tiY6daTr+NrmBKzpOTAuyHN1diJKpQ5Tcy1pGuc7M32k4/2eeSY4/7I7HEsCX+wOx5JgoWL8oNfDP/z93wEAjm7sqrodIle4fu26qmPvrIzMMetdnUpobSum3Fk33OJtIkDMyMSVptYjKoqwXeP9lp6NBAfFGpEe2vRPJH5ZooVEojpRGzMUO/l1GrFdI9PeXg2KlhMj6jGHhKozXltsJqqMCVNHm9FvjHjLdYnpY5bYbUkdWO60oin3GdisZfpksdiaY2d6vyX2mmcRdkDZ8yxPvxBZp8whBmVvQ+vlp6I8ObLNtONnNcvNfU9vjscJJx2OpYcvdodjSbBQMb6qahzsjMT1QaFF2P4hZWC1u9S0O9wQEq1tPAGXjdjKO5tpHkWlpugpSGmHPzWkEe1GFN0D8dDbc7EQaFM8FXTdg8LwghM3Xt0ggg2T/qlBx4mxSCQ0ZiUGGtcy5e0lVpXhdsydZvj8+XdGelQSqMq8m81smFhSCv4ZibfBBJmowBWrTlAKL862a3fEuQurJrDoPv07Es/n7NorVcNaaNQh5U+w4+DUUHa3/w6SVzgcjm9w+GJ3OJYEvtgdjiXBYnnjkwT1mLBhraP1s5VOZLGpC03q0GSSxhbxrjf1uyonnbrV0eSFOaUKTnPS42obacWRc9ZLiXVs0uOszp6Qfmn6ECI2RGHJF+O+RZ+iAgelbpcOifDBEjmQFxqbhaznGmuEIsYcRigp6i01piDWQ0MwOuQM86M10YkySc3ehOE9F6ufDinVtY0GU3sYjZT+bs5F4xdDeMo6+5TpkLtgj8JptkgqGg+9mVF7c/TwF8436V92h2NZ4Ivd4VgSLFSMTyRBpzHybOu2DG+8xCCTTLT3W3c1Ej606HeVNcEozy+byphFLCLKSI35i8Vuy4TA4rryLDPjqOZ4QZE4mpvU1JWyKpLYZ/qo6TgY/jud/pcDP4xoStdSG7GV++Tx2nHoDs1xcrzomxlOdp5Sqw5pbzL6jQ1ioWNrHqxnic9TojqZZq2qIXPUEPbyI1Vgak7nUGLIzOucQ3Ihts4WpuFfdodjSeCL3eFYEvhidziWBIvV2ZME3dWReWytZSK5SMdOEq3vZDm7gFKFJY1Q+tnsdM4VM0TaLphkILX2DdJzSS8vTZpgVo+ndFTW66bMRLHcsESSM9oZlR11xW6wPCajQ7JubxgzOboqpdTOVqfOmCjDpGxu5EQ8QW6weW7yubG7rOV8L/me0RybT1TOOeJsNNusyLnK7mHEsjWv8Ritq6t+BI/PTTd1AmumZPIKui9Jaok+OIGeJZx08gqHwzGGL3aHY0mwUDFeBMjHEWfG8oZmTumLg+GUJ/GrKGJdVVnzhjqbOmITDIvx1pSiYdMRcR8sEk7HSc0YlBqVtWRlJCYzH3xpzWtkarJ87bM4GKY96Mi8ZuYgJ6+8LKvo71a8JZOaraPjhD30pogyiJDBRBmGjE1Z5MlnxGAmvQj2dirTGJsl9bwpjz8bUaYi4oyqwfyIcyLn5uVuUudTfHTGvJbM9gCUZLZpb/KbW7YAICIbIvJ7IvIlEXlMRL5bRLZE5GMi8vj4/82T9OVwOE4HJxXjfw3An4QQvg2jVFCPAXgPgEdCCA8AeGR87HA4XqI4SRbXdQDfB+DfAEAIYQhgKCJvA/CGcbMPAPgEgHfP7SyESfBHWRoxKnAAiuVmI1IH5k6zW9F8KrsvyWl66FxT3lKqPNsbi9tlZieavZtSQ4+sPPQMhzN7YIkKaDFkHjQHpdlJ5zkJM64Z0G/51BIyUP8NCtapczMfKmupUTU4/RNm7/zXSpex8yjHlo+hdaDi7GeCTzXFmTfPcqFOZckraA5mjWnqZ7OtPArm2RGikkawKtV4HLfpQXc/gOcB/E8R+ayI/I9x6uYLIYRnx22uYJTt1eFwvERxksWeAfhOAL8eQngtgEMYkT2MXm/HvlJF5CEReVREHj047B3XxOFwLAAnWeyXAVwOIXxyfPx7GC3+50TkEgCM/98+7schhIdDCA+GEB7srrSPa+JwOBaAk+RnvyIiXxeRbw0hfBmjnOxfHP97B4D3jf//8An6wqA/IpxsWFLJJqf/1UIC6/esT1rdirnKM6srs17K3VuPK9KbjZo78VIa/YzNPbOjsCzXOnvbVSYVM7dU5iVD0piwXmrPzRF9ao9htjlJjL6dqBTCZO6xRBwUlWUj0cDHrA8X5lzUZQmtz6tUz+RNN02ueLzpatxLrJrnCUfnsnMFJiOxlznP3MYjnLPlEGZ619nnimu0zl6OnyXrVMo4qZ393wP4LRFpAHgCwL/FSCr4HRF5J4CnALz9hH05HI5TwIkWewjhcwAePKbqTXd0NA6H465hoR50dVXhYH8XABCMC12rjB5jNvPpkPjVWdyyhAANSg0lLUMawWLPPFlHybdG1COZs55hDgSAiskUTPcVmaRsIAxnIOXAkrxhPNzyGERU2zGyesFxE9b0RnOQGdE3I3G32aQ0VE2TNZfm25rvEiUyM/kDNNiUOpjtOcm5BKa8HhWpg6lis5YyFRpDGXunZbNJNOw8Ki4/nBBTDpdsLqVAGKtqkIpWGW/Dyphnj4P7xjscSwJf7A7HksAXu8OxJFhsrre6xu7+4ag81PpqjwgIrErDLqG1Ip7Q+lOex7r+QPevXFpJB7MEFSnpeFa/ZNMNm1ysq+g8c0yoj9fPACBTUWTRRMd6MwBUHAFmos00KaRixVRQfO2WvDBj812ct6LU7Sp27536bNAcM6mkJahQczWb+DJY0x6Pl35nuedVujsyoVnzHU9jUppx8DRazndlptSjUkcyex9H5wakaxE9jsOjqJf3G1pHf+aZqwD0/paFf9kdjiWBL3aHY0kgNhXNXT2ZyPMYOeCcBXB1YSc+Hi+FMQA+Dgsfh8YLHcfLQwjnjqtY6GKfnFTk0RDCcU46SzUGH4ePY5HjcDHe4VgS+GJ3OJYEp7XYHz6l8zJeCmMAfBwWPg6NOzaOU9HZHQ7H4uFivMOxJFjoYheRt4jIl0XkqyKyMDZaEfkNEdkWkc/T3xZOhS0i94nIx0XkiyLyBRF512mMRURaIvIpEfnb8Th+cfz3+0Xkk+P786Exf8Fdh4ikY37Dj57WOETkSRH5exH5nIg8Ov7baTwjd422fWGLXURSAP8NwL8C8CoAPyoir1rQ6X8TwFvM306DCrsE8DMhhFcBeD2AnxzPwaLHMgDwxhDCqwG8BsBbROT1AH4JwK+EEF4J4AaAd97lcdzEuzCiJ7+J0xrH94cQXkOmrtN4Ru4ebXsIYSH/AHw3gD+l4/cCeO8Cz/8KAJ+n4y8DuDQuXwLw5UWNhcbwYQBvPs2xAOgA+BsA34WR80Z23P26i+e/d/wAvxHARzFyKj+NcTwJ4Kz520LvC4B1AF/DeC/tTo9jkWL8PQC+TseXx387LZwqFbaIvALAawF88jTGMhadP4cRUejHAPwDgJ0QJvmkFnV/fhXAzyGG6pw5pXEEAH8mIp8RkYfGf1v0fbmrtO2+QYf5VNh3AyLSBfD7AH4qhLB3GmMJIVQhhNdg9GV9HYBvu9vntBCRHwSwHUL4zKLPfQy+N4TwnRipmT8pIt/HlQu6L7dF234rLHKxPw3gPjq+d/y308KJqLDvNEQkx2ih/1YI4Q9OcywAEELYAfBxjMTlDRG5GdO6iPvzPQB+SESeBPBBjET5XzuFcSCE8PT4/20Af4jRC3DR9+W2aNtvhUUu9k8DeGC809oA8CMAPrLA81t8BCMKbOCEVNi3CxkFNb8fwGMhhF8+rbGIyDkR2RiX2xjtGzyG0aL/4UWNI4Tw3hDCvSGEV2D0PPx5COHHFz0OEVkRkdWbZQA/AODzWPB9CSFcAfB1EfnW8Z9u0rbfmXHc7Y0Ps9HwVgBfwUg//PkFnve3ATwLoMDo7flOjHTDRwA8DuD/ANhawDi+FyMR7O8AfG78762LHguAfw7gs+NxfB7Afxz//VsAfArAVwH8LoDmAu/RGwB89DTGMT7f347/feHms3lKz8hrADw6vjf/G8DmnRqHe9A5HEsC36BzOJYEvtgdjiWBL3aHY0ngi93hWBL4Ync4lgS+2B2OJYEvdodjSeCL3eFYEvx/M4ZCXU/VeQYAAAAASUVORK5CYII=",
      "text/plain": [
       "<Figure size 432x288 with 1 Axes>"
      ]
     },
     "metadata": {
      "needs_background": "light"
     },
     "output_type": "display_data"
    }
   ],
   "source": [
    "ae_img = ae_model.predict(np.expand_dims(input_image, axis=0))\n",
    "ae_img = np.squeeze(ae_img,axis=0)\n",
    "print(ae_img.shape)\n",
    "plt.imshow(ae_img+0.5)"
   ]
  },
  {
   "cell_type": "markdown",
   "metadata": {},
   "source": [
    "PN"
   ]
  },
  {
   "cell_type": "code",
<<<<<<< HEAD
   "execution_count": 37,
=======
   "execution_count": 99,
>>>>>>> update
   "metadata": {},
   "outputs": [
    {
     "name": "stdout",
     "output_type": "stream",
     "text": [
      "iter:0 const:[10.]\n",
      "Loss_Overall:22349.6641, Loss_Attack:38.2884\n",
      "Loss_L2Dist:88.8834, Loss_L1Dist:117.4105, AE_loss:22105.08203125\n",
      "target_lab_score:1.2915, max_nontarget_lab_score:-1.6373\n",
      "\n",
      "iter:500 const:[10.]\n",
<<<<<<< HEAD
      "Loss_Overall:95276.6875, Loss_Attack:59.7224\n",
      "Loss_L2Dist:347.0353, Loss_L1Dist:456.5031, AE_loss:94413.4296875\n",
      "target_lab_score:2.3323, max_nontarget_lab_score:-2.7400\n",
      "\n",
      "iter:0 const:[100.]\n",
      "Loss_Overall:22602.3105, Loss_Attack:339.0594\n",
=======
      "Loss_Overall:99031.3828, Loss_Attack:45.1819\n",
      "Loss_L2Dist:328.8430, Loss_L1Dist:458.6966, AE_loss:98198.6640625\n",
      "target_lab_score:1.6896, max_nontarget_lab_score:-1.9286\n",
      "\n",
      "iter:0 const:[100.]\n",
      "Loss_Overall:22602.3105, Loss_Attack:339.0595\n",
>>>>>>> update
      "Loss_L2Dist:89.3908, Loss_L1Dist:117.6927, AE_loss:22056.166015625\n",
      "target_lab_score:1.0717, max_nontarget_lab_score:-1.4188\n",
      "\n",
      "iter:500 const:[100.]\n",
<<<<<<< HEAD
      "Loss_Overall:96745.0547, Loss_Attack:573.9942\n",
      "Loss_L2Dist:333.6041, Loss_L1Dist:451.5338, AE_loss:95385.921875\n",
      "target_lab_score:2.2152, max_nontarget_lab_score:-2.6248\n",
      "\n",
      "iter:0 const:[1000.]\n",
      "Loss_Overall:31885.0273, Loss_Attack:826.0035\n",
=======
      "Loss_Overall:97778.5938, Loss_Attack:383.5694\n",
      "Loss_L2Dist:331.8651, Loss_L1Dist:449.1843, AE_loss:96613.96875\n",
      "target_lab_score:1.2851, max_nontarget_lab_score:-1.6506\n",
      "\n",
      "iter:0 const:[1000.]\n",
      "Loss_Overall:31885.0293, Loss_Attack:826.0038\n",
>>>>>>> update
      "Loss_L2Dist:209.2003, Loss_L1Dist:346.5353, AE_loss:30503.2890625\n",
      "target_lab_score:-0.2285, max_nontarget_lab_score:-0.1545\n",
      "\n",
      "iter:500 const:[1000.]\n",
<<<<<<< HEAD
      "Loss_Overall:73127.5156, Loss_Attack:3624.3921\n",
      "Loss_L2Dist:353.9349, Loss_L1Dist:501.0554, AE_loss:68648.1328125\n",
      "target_lab_score:1.1515, max_nontarget_lab_score:-1.5729\n",
      "\n",
      "iter:0 const:[550.]\n",
      "Loss_Overall:25063.0527, Loss_Attack:302.4203\n",
      "Loss_L2Dist:118.9616, Loss_L1Dist:172.3896, AE_loss:24469.28125\n",
      "target_lab_score:-0.3092, max_nontarget_lab_score:0.0409\n",
      "\n",
      "iter:500 const:[550.]\n",
      "Loss_Overall:98038.6484, Loss_Attack:3488.2886\n",
      "Loss_L2Dist:359.0948, Loss_L1Dist:523.3383, AE_loss:93667.9296875\n",
      "target_lab_score:2.5144, max_nontarget_lab_score:-2.9280\n",
=======
      "Loss_Overall:64700.4727, Loss_Attack:7297.5850\n",
      "Loss_L2Dist:202.8558, Loss_L1Dist:293.3661, AE_loss:56906.6640625\n",
      "target_lab_score:2.9822, max_nontarget_lab_score:-3.4154\n",
      "\n",
      "iter:0 const:[550.]\n",
      "Loss_Overall:25063.0547, Loss_Attack:302.4205\n",
      "Loss_L2Dist:118.9616, Loss_L1Dist:172.3896, AE_loss:24469.283203125\n",
      "target_lab_score:-0.3092, max_nontarget_lab_score:0.0409\n",
      "\n",
      "iter:500 const:[550.]\n",
      "Loss_Overall:91883.9844, Loss_Attack:2939.1519\n",
      "Loss_L2Dist:356.4462, Loss_L1Dist:511.0021, AE_loss:88077.3828125\n",
      "target_lab_score:2.0628, max_nontarget_lab_score:-2.3811\n",
>>>>>>> update
      "\n",
      "iter:0 const:[325.]\n",
      "Loss_Overall:23318.8633, Loss_Attack:296.5931\n",
      "Loss_L2Dist:95.0715, Loss_L1Dist:130.2785, AE_loss:22796.919921875\n",
      "target_lab_score:-0.1384, max_nontarget_lab_score:-0.1509\n",
      "\n",
      "iter:500 const:[325.]\n",
<<<<<<< HEAD
      "Loss_Overall:106358.5703, Loss_Attack:2205.9409\n",
      "Loss_L2Dist:378.3426, Loss_L1Dist:546.5791, AE_loss:103227.7109375\n",
      "target_lab_score:2.7567, max_nontarget_lab_score:-3.1308\n",
=======
      "Loss_Overall:105585.0703, Loss_Attack:2105.8071\n",
      "Loss_L2Dist:378.7480, Loss_L1Dist:549.1843, AE_loss:102551.328125\n",
      "target_lab_score:2.5716, max_nontarget_lab_score:-3.0078\n",
>>>>>>> update
      "\n",
      "iter:0 const:[212.5]\n",
      "Loss_Overall:23044.4180, Loss_Attack:577.2479\n",
      "Loss_L2Dist:90.6173, Loss_L1Dist:119.8239, AE_loss:22256.728515625\n",
      "target_lab_score:0.7423, max_nontarget_lab_score:-1.0741\n",
      "\n",
      "iter:500 const:[212.5]\n",
<<<<<<< HEAD
      "Loss_Overall:93743.0469, Loss_Attack:1395.1085\n",
      "Loss_L2Dist:321.8226, Loss_L1Dist:432.5140, AE_loss:91593.6015625\n",
      "target_lab_score:2.5985, max_nontarget_lab_score:-3.0668\n",
      "\n",
      "iter:0 const:[268.75]\n",
      "Loss_Overall:23151.4141, Loss_Attack:475.1390\n",
      "Loss_L2Dist:92.1009, Loss_L1Dist:123.3322, AE_loss:22460.841796875\n",
      "target_lab_score:0.2775, max_nontarget_lab_score:-0.5905\n",
      "\n",
      "iter:500 const:[268.75]\n",
      "Loss_Overall:95101.8281, Loss_Attack:1520.7212\n",
      "Loss_L2Dist:335.3033, Loss_L1Dist:452.4681, AE_loss:92793.3359375\n",
      "target_lab_score:2.1573, max_nontarget_lab_score:-2.6012\n",
      "\n",
      "iter:0 const:[296.875]\n",
      "Loss_Overall:23197.0371, Loss_Attack:380.6447\n",
=======
      "Loss_Overall:98884.2031, Loss_Attack:920.0417\n",
      "Loss_L2Dist:332.3386, Loss_L1Dist:443.3659, AE_loss:97188.453125\n",
      "target_lab_score:1.5459, max_nontarget_lab_score:-1.8837\n",
      "\n",
      "iter:0 const:[268.75]\n",
      "Loss_Overall:23151.4141, Loss_Attack:475.1393\n",
      "Loss_L2Dist:92.1009, Loss_L1Dist:123.3321, AE_loss:22460.841796875\n",
      "target_lab_score:0.2775, max_nontarget_lab_score:-0.5905\n",
      "\n",
      "iter:500 const:[268.75]\n",
      "Loss_Overall:96430.2969, Loss_Attack:1457.8759\n",
      "Loss_L2Dist:339.8370, Loss_L1Dist:450.3575, AE_loss:94182.2265625\n",
      "target_lab_score:2.1184, max_nontarget_lab_score:-2.4062\n",
      "\n",
      "iter:0 const:[296.875]\n",
      "Loss_Overall:23197.0371, Loss_Attack:380.6444\n",
>>>>>>> update
      "Loss_L2Dist:93.4055, Loss_L1Dist:126.5409, AE_loss:22596.4453125\n",
      "target_lab_score:0.0409, max_nontarget_lab_score:-0.3412\n",
      "\n",
      "iter:500 const:[296.875]\n",
<<<<<<< HEAD
      "Loss_Overall:105521.2422, Loss_Attack:1928.1892\n",
      "Loss_L2Dist:381.5117, Loss_L1Dist:553.5968, AE_loss:102657.9453125\n",
      "target_lab_score:2.5936, max_nontarget_lab_score:-3.0014\n",
      "\n",
      "iter:0 const:[310.9375]\n",
      "Loss_Overall:23256.4629, Loss_Attack:335.6452\n",
      "Loss_L2Dist:94.2062, Loss_L1Dist:128.3716, AE_loss:22698.240234375\n",
      "target_lab_score:-0.0582, max_nontarget_lab_score:-0.2377\n",
      "\n",
      "iter:500 const:[310.9375]\n",
      "Loss_Overall:107709.2188, Loss_Attack:2187.0137\n",
      "Loss_L2Dist:367.1192, Loss_L1Dist:527.8948, AE_loss:104627.1875\n",
      "target_lab_score:2.8916, max_nontarget_lab_score:-3.2420\n",
=======
      "Loss_Overall:107412.4375, Loss_Attack:1944.9354\n",
      "Loss_L2Dist:376.5010, Loss_L1Dist:541.2849, AE_loss:104549.71875\n",
      "target_lab_score:2.6567, max_nontarget_lab_score:-2.9946\n",
      "\n",
      "iter:0 const:[310.9375]\n",
      "Loss_Overall:23256.4609, Loss_Attack:335.6452\n",
      "Loss_L2Dist:94.2062, Loss_L1Dist:128.3716, AE_loss:22698.23828125\n",
      "target_lab_score:-0.0582, max_nontarget_lab_score:-0.2377\n",
      "\n",
      "iter:500 const:[310.9375]\n",
      "Loss_Overall:94683.4609, Loss_Attack:1946.7731\n",
      "Loss_L2Dist:348.9547, Loss_L1Dist:454.5720, AE_loss:91933.1640625\n",
      "target_lab_score:2.4943, max_nontarget_lab_score:-2.8667\n",
>>>>>>> update
      "\n"
     ]
    }
   ],
   "source": [
    "#search PN========================\n",
    "arg_mode = \"PN\" # Find pertinent negative\n",
    "\n",
    "arg_max_iter = 1000 # Maximum number of iterations to search for the optimal PN for given parameter settings\n",
    "arg_init_const = 10.0 # Initial coefficient value for main loss term that encourages class change\n",
    "arg_b = 9 # No. of updates to the coefficient of the main loss term\n",
    "\n",
    "arg_kappa = 0.9 # Minimum confidence gap between the PNs (changed) class probability and original class' probability\n",
    "arg_beta = 1.0 # Controls sparsity of the solution (L1 loss)\n",
    "arg_gamma = 100 # Controls how much to adhere to a (optionally trained) autoencoder\n",
    "arg_alpha = 0.01 # Penalizes L2 norm of the solution\n",
    "arg_threshold = 0.05 # Automatically turn off features <= arg_threshold if arg_threshold < 1\n",
    "arg_offset = 0.5 # the model assumes classifier trained on data normalized\n",
    "                # in [-arg_offset, arg_offset] range, where arg_offset is 0 or 0.5\n",
    "\n",
    "\n",
    "(adv_pn, delta_pn, info_pn) = explainer.explain_instance(np.expand_dims(input_image, axis=0), arg_mode, ae_model, arg_kappa, arg_b, \n",
    "                                            arg_max_iter, arg_init_const, arg_beta, arg_gamma, arg_alpha, arg_threshold, arg_offset)"
   ]
  },
  {
   "cell_type": "code",
<<<<<<< HEAD
   "execution_count": 38,
=======
   "execution_count": 100,
>>>>>>> update
   "metadata": {},
   "outputs": [
    {
     "name": "stdout",
     "output_type": "stream",
     "text": [
<<<<<<< HEAD
      "[INFO]kappa:0.9, Orig class:1, Perturbed class:0, Delta class: 1, Orig prob:[[-0.97723734  0.6403261 ]], Perturbed prob:[[ 0.9040023 -1.2566166]], Delta prob:[[-1.0117824   0.51577467]]\n"
=======
      "[INFO]kappa:0.9, Orig class:1, Perturbed class:0, Delta class: 0, Orig prob:[[-0.9772377   0.64032656]], Perturbed prob:[[ 4.312026 -5.002309]], Delta prob:[[-0.1680308 -0.1954473]]\n"
>>>>>>> update
     ]
    }
   ],
   "source": [
    "print(info_pn)"
   ]
  },
  {
   "cell_type": "markdown",
   "metadata": {},
   "source": [
    "PP"
   ]
  },
  {
   "cell_type": "code",
<<<<<<< HEAD
   "execution_count": 39,
=======
   "execution_count": 101,
>>>>>>> update
   "metadata": {},
   "outputs": [
    {
     "name": "stdout",
     "output_type": "stream",
     "text": [
      "iter:0 const:[10.]\n",
      "Loss_Overall:116936.4297, Loss_Attack:39.9657\n",
      "Loss_L2Dist:0.0000, Loss_L1Dist:0.0000, AE_loss:116896.4609375\n",
      "target_lab_score:-1.7192, max_nontarget_lab_score:1.3774\n",
      "\n",
      "iter:500 const:[10.]\n",
      "Loss_Overall:116936.4297, Loss_Attack:39.9657\n",
      "Loss_L2Dist:0.0000, Loss_L1Dist:0.0000, AE_loss:116896.4609375\n",
      "target_lab_score:-1.7192, max_nontarget_lab_score:1.3774\n",
      "\n",
      "iter:0 const:[100.]\n",
      "Loss_Overall:117296.1172, Loss_Attack:399.6573\n",
      "Loss_L2Dist:0.0000, Loss_L1Dist:0.0000, AE_loss:116896.4609375\n",
      "target_lab_score:-1.7192, max_nontarget_lab_score:1.3774\n",
      "\n",
      "iter:500 const:[100.]\n",
      "Loss_Overall:117296.1172, Loss_Attack:399.6573\n",
      "Loss_L2Dist:0.0000, Loss_L1Dist:0.0000, AE_loss:116896.4609375\n",
      "target_lab_score:-1.7192, max_nontarget_lab_score:1.3774\n",
      "\n",
      "iter:0 const:[1000.]\n",
      "Loss_Overall:97449.2266, Loss_Attack:2828.5723\n",
      "Loss_L2Dist:12.5161, Loss_L1Dist:38.0529, AE_loss:94604.3359375\n",
      "target_lab_score:-1.1312, max_nontarget_lab_score:0.7973\n",
      "\n",
      "iter:500 const:[1000.]\n",
<<<<<<< HEAD
      "Loss_Overall:116235.2422, Loss_Attack:0.0000\n",
      "Loss_L2Dist:28.4177, Loss_L1Dist:67.3757, AE_loss:116200.09375\n",
      "target_lab_score:0.3031, max_nontarget_lab_score:-0.7167\n",
      "\n",
      "iter:0 const:[550.]\n",
      "Loss_Overall:116998.9609, Loss_Attack:2119.7129\n",
=======
      "Loss_Overall:116060.4219, Loss_Attack:335.5455\n",
      "Loss_L2Dist:27.8044, Loss_L1Dist:62.6456, AE_loss:115690.8046875\n",
      "target_lab_score:0.0762, max_nontarget_lab_score:-0.4883\n",
      "\n",
      "iter:0 const:[550.]\n",
      "Loss_Overall:116998.9609, Loss_Attack:2119.7126\n",
>>>>>>> update
      "Loss_L2Dist:0.2326, Loss_L1Dist:1.0693, AE_loss:114878.90625\n",
      "target_lab_score:-1.6452, max_nontarget_lab_score:1.3088\n",
      "\n",
      "iter:500 const:[550.]\n",
<<<<<<< HEAD
      "Loss_Overall:123113.5078, Loss_Attack:98.3140\n",
      "Loss_L2Dist:23.8758, Loss_L1Dist:43.3464, AE_loss:122986.984375\n",
      "target_lab_score:0.2146, max_nontarget_lab_score:-0.5066\n",
=======
      "Loss_Overall:121981.3047, Loss_Attack:0.0000\n",
      "Loss_L2Dist:34.9231, Loss_L1Dist:61.6233, AE_loss:121940.21875\n",
      "target_lab_score:0.4845, max_nontarget_lab_score:-0.8128\n",
>>>>>>> update
      "\n",
      "iter:0 const:[775.]\n",
      "Loss_Overall:108017.5938, Loss_Attack:2591.5869\n",
      "Loss_L2Dist:2.9386, Loss_L1Dist:10.4785, AE_loss:105422.0234375\n",
      "target_lab_score:-1.3882, max_nontarget_lab_score:1.0558\n",
      "\n",
      "iter:500 const:[775.]\n",
<<<<<<< HEAD
      "Loss_Overall:117376.4844, Loss_Attack:725.0435\n",
      "Loss_L2Dist:12.4666, Loss_L1Dist:28.2853, AE_loss:116636.1484375\n",
      "target_lab_score:-0.2359, max_nontarget_lab_score:-0.2004\n",
=======
      "Loss_Overall:114713.3359, Loss_Attack:0.0000\n",
      "Loss_L2Dist:27.8788, Loss_L1Dist:49.3031, AE_loss:114680.53125\n",
      "target_lab_score:0.9321, max_nontarget_lab_score:-1.5307\n",
>>>>>>> update
      "\n",
      "iter:0 const:[662.5]\n",
      "Loss_Overall:115936.7109, Loss_Attack:2403.6428\n",
      "Loss_L2Dist:1.0337, Loss_L1Dist:3.7273, AE_loss:113531.65625\n",
      "target_lab_score:-1.5275, max_nontarget_lab_score:1.2007\n",
      "\n",
      "iter:500 const:[662.5]\n",
<<<<<<< HEAD
      "Loss_Overall:120167.0625, Loss_Attack:0.0000\n",
      "Loss_L2Dist:29.9688, Loss_L1Dist:50.0117, AE_loss:120132.09375\n",
      "target_lab_score:1.1599, max_nontarget_lab_score:-1.6710\n",
=======
      "Loss_Overall:125091.6719, Loss_Attack:0.0000\n",
      "Loss_L2Dist:37.5039, Loss_L1Dist:61.2737, AE_loss:125048.046875\n",
      "target_lab_score:1.2529, max_nontarget_lab_score:-1.7245\n",
>>>>>>> update
      "\n",
      "iter:0 const:[606.25]\n",
      "Loss_Overall:116933.4219, Loss_Attack:2261.9905\n",
      "Loss_L2Dist:0.5290, Loss_L1Dist:2.1852, AE_loss:114670.6796875\n",
      "target_lab_score:-1.5815, max_nontarget_lab_score:1.2496\n",
      "\n",
      "iter:500 const:[606.25]\n",
<<<<<<< HEAD
      "Loss_Overall:120560.7500, Loss_Attack:1040.0754\n",
      "Loss_L2Dist:28.0553, Loss_L1Dist:58.5578, AE_loss:119486.7578125\n",
      "target_lab_score:-0.5994, max_nontarget_lab_score:0.2161\n",
=======
      "Loss_Overall:122173.4844, Loss_Attack:0.0000\n",
      "Loss_L2Dist:32.0816, Loss_L1Dist:59.8194, AE_loss:122135.421875\n",
      "target_lab_score:0.3465, max_nontarget_lab_score:-0.6228\n",
>>>>>>> update
      "\n",
      "iter:0 const:[634.375]\n",
      "Loss_Overall:115909.9219, Loss_Attack:2334.6094\n",
      "Loss_L2Dist:0.7541, Loss_L1Dist:2.9675, AE_loss:113574.2578125\n",
      "target_lab_score:-1.5545, max_nontarget_lab_score:1.2257\n",
      "\n",
      "iter:500 const:[634.375]\n",
<<<<<<< HEAD
      "Loss_Overall:119591.9453, Loss_Attack:0.0000\n",
      "Loss_L2Dist:35.0225, Loss_L1Dist:62.0388, AE_loss:119550.71875\n",
      "target_lab_score:0.9257, max_nontarget_lab_score:-1.3978\n",
=======
      "Loss_Overall:117164.3984, Loss_Attack:0.0000\n",
      "Loss_L2Dist:24.0984, Loss_L1Dist:40.9693, AE_loss:117136.203125\n",
      "target_lab_score:0.8101, max_nontarget_lab_score:-1.3566\n",
>>>>>>> update
      "\n",
      "iter:0 const:[620.3125]\n",
      "Loss_Overall:116707.8438, Loss_Attack:2298.5193\n",
      "Loss_L2Dist:0.6326, Loss_L1Dist:2.5336, AE_loss:114408.4453125\n",
      "target_lab_score:-1.5680, max_nontarget_lab_score:1.2374\n",
      "\n",
      "iter:500 const:[620.3125]\n",
<<<<<<< HEAD
      "Loss_Overall:121356.8203, Loss_Attack:316.7942\n",
      "Loss_L2Dist:25.9054, Loss_L1Dist:48.3269, AE_loss:121009.28125\n",
      "target_lab_score:0.0541, max_nontarget_lab_score:-0.3352\n",
=======
      "Loss_Overall:118958.5469, Loss_Attack:930.9398\n",
      "Loss_L2Dist:11.7775, Loss_L1Dist:23.9368, AE_loss:118013.4375\n",
      "target_lab_score:-0.4686, max_nontarget_lab_score:0.1321\n",
>>>>>>> update
      "\n"
     ]
    }
   ],
   "source": [
    "#search PP=======================\n",
    "arg_mode = \"PP\"  # Find pertinent positive\n",
    "arg_beta = 0.1 # Controls sparsity of the solution (L1 loss)\n",
    "(adv_pp, delta_pp, info_pp) = explainer.explain_instance(np.expand_dims(input_image, axis=0), arg_mode, ae_model, arg_kappa, arg_b, \n",
    "                                            arg_max_iter, arg_init_const, arg_beta, arg_gamma, arg_alpha, arg_threshold, arg_offset)"
   ]
  },
  {
   "cell_type": "code",
<<<<<<< HEAD
   "execution_count": 40,
=======
   "execution_count": 102,
>>>>>>> update
   "metadata": {},
   "outputs": [
    {
     "name": "stdout",
     "output_type": "stream",
     "text": [
<<<<<<< HEAD
      "[INFO]kappa:0.9, Orig class:1, Perturbed class:1, Delta class: 1, Orig prob:[[-0.97723734  0.6403261 ]], Perturbed prob:[[-1.2582251   0.88844985]], Delta prob:[[-1.7709669  1.2381486]]\n"
=======
      "[INFO]kappa:0.9, Orig class:1, Perturbed class:1, Delta class: 1, Orig prob:[[-0.9772377   0.64032656]], Perturbed prob:[[-1.5881646  1.213974 ]], Delta prob:[[-1.7526712  1.2216927]]\n"
>>>>>>> update
     ]
    }
   ],
   "source": [
    "print(info_pp)"
   ]
  },
  {
   "cell_type": "markdown",
   "metadata": {},
   "source": [
    "plot PN and PP"
   ]
  },
  {
   "cell_type": "code",
<<<<<<< HEAD
   "execution_count": 42,
=======
   "execution_count": 103,
>>>>>>> update
   "metadata": {},
   "outputs": [
    {
     "data": {
<<<<<<< HEAD
      "image/png": "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",
=======
      "image/png": "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",
>>>>>>> update
      "text/plain": [
       "<Figure size 720x720 with 5 Axes>"
      ]
     },
     "metadata": {
      "needs_background": "light"
     },
     "output_type": "display_data"
    }
   ],
   "source": [
    "#plot PN and PP=================\n",
    "fig0 = (input_image)+0.5\n",
    "\n",
    "fig1 = np.clip((adv_pn[0])+0.5,0.,1.) \n",
    "fig2 = np.clip((fig1 - fig0),0.,1.) #rescaled delta_pn\n",
    "fig3 = np.clip((adv_pp[0])+0.5, 0., 1.) \n",
    "fig4 = np.clip((delta_pp[0])+0.5,0.,1.)  #rescaled delta_pp\n",
    "\n",
    "f, axarr = plt.subplots(1, 5, figsize=(10,10))\n",
    "axarr[0].set_title(\"Original\" + \"(\" + str(mymodel.predict_classes(np.expand_dims(input_image, axis=0))) + \")\")\n",
    "axarr[1].set_title(\"Original + PN\" + \"(\" + str(mymodel.predict_classes(adv_pn)) + \")\")\n",
    "axarr[2].set_title(\"PN\")\n",
    "axarr[3].set_title(\"Original + PP\")\n",
    "axarr[4].set_title(\"PP\" + \"(\" + str(mymodel.predict_classes(delta_pp)) + \")\")\n",
    "\n",
    "axarr[0].imshow(fig0)\n",
    "axarr[1].imshow(fig1)\n",
    "axarr[2].imshow(fig2)\n",
    "axarr[3].imshow(fig3)\n",
    "axarr[4].imshow(fig4)\n",
    "plt.savefig(f'./output/aix_output_{image_id}.jpg')\n",
    "plt.show()"
   ]
  }
 ],
 "metadata": {
  "interpreter": {
   "hash": "88b37297db05204c59eafe2870b8b2234962f7cf150fe20f762fc363b4281d3a"
  },
  "kernelspec": {
   "display_name": "Python 3.6.13 ('aix360')",
   "language": "python",
   "name": "python3"
  },
  "language_info": {
   "codemirror_mode": {
    "name": "ipython",
    "version": 3
   },
   "file_extension": ".py",
   "mimetype": "text/x-python",
   "name": "python",
   "nbconvert_exporter": "python",
   "pygments_lexer": "ipython3",
   "version": "3.6.13"
  }
 },
 "nbformat": 4,
 "nbformat_minor": 2
}
