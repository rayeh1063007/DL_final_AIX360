{
 "cells": [
  {
   "cell_type": "markdown",
   "metadata": {},
   "source": [
    "## Tutorial to use explainability metrics to evaluate lime explanations via AIX360\n",
    "- AIX360/metrics/local_metrics.py defines following explainablity metrics: faithfulness_metric and monotonicity_metric. This notebook borrows an example from original lime tutorial to show how to invoke these AIX360 methods to evaluate the quality of the lime explanations. "
   ]
  },
  {
   "cell_type": "code",
   "execution_count": 1,
   "metadata": {},
   "outputs": [
    {
     "name": "stdout",
     "output_type": "stream",
     "text": [
      "['/Users/vijay/opt/anaconda3/envs/aix360/lib/python36.zip', '/Users/vijay/opt/anaconda3/envs/aix360/lib/python3.6', '/Users/vijay/opt/anaconda3/envs/aix360/lib/python3.6/lib-dynload', '', '/Users/vijay/.local/lib/python3.6/site-packages', '/Users/vijay/opt/anaconda3/envs/aix360/lib/python3.6/site-packages', '/Users/vijay/PRODMAY24/AIX360', '/Users/vijay/Causality/gems', '/Users/vijay/opt/anaconda3/envs/aix360/lib/python3.6/site-packages/cdt-0.5.18-py3.6.egg', '/Users/vijay/opt/anaconda3/envs/aix360/lib/python3.6/site-packages/IPython/extensions', '/Users/vijay/.ipython', '..\\\\', '..\\\\..\\\\']\n"
     ]
    }
   ],
   "source": [
    "import os, sys\n",
    "sys.path.append(\"..\\\\\")\n",
    "sys.path.append(\"..\\\\..\\\\\")\n",
    "print(sys.path)"
   ]
  },
  {
   "cell_type": "markdown",
   "metadata": {},
   "source": [
    "### LIME Tabular example\n",
    "- Example from https://github.com/marcotcr/lime/blob/master/doc/notebooks/Tutorial%20-%20continuous%20and%20categorical%20features.ipynb"
   ]
  },
  {
   "cell_type": "code",
   "execution_count": 2,
   "metadata": {},
   "outputs": [],
   "source": [
    "from __future__ import print_function\n",
    "from IPython.display import Markdown, display\n",
    "from matplotlib import pyplot as plt\n",
    "import sklearn\n",
    "import sklearn.datasets\n",
    "import sklearn.ensemble\n",
    "import numpy as np\n",
    "import lime\n",
    "np.random.seed(1)\n",
    "\n",
    "\n",
    "from lime.lime_tabular import LimeTabularExplainer\n",
    "from aix360.metrics import faithfulness_metric, monotonicity_metric"
   ]
  },
  {
   "cell_type": "code",
   "execution_count": 3,
   "metadata": {},
   "outputs": [],
   "source": [
    "iris = sklearn.datasets.load_iris()"
   ]
  },
  {
   "cell_type": "code",
   "execution_count": 4,
   "metadata": {},
   "outputs": [],
   "source": [
    "train, test, labels_train, labels_test = sklearn.model_selection.train_test_split(iris.data, \n",
    "                                                                                  iris.target, \n",
    "                                                                                  train_size=0.80)"
   ]
  },
  {
   "cell_type": "code",
   "execution_count": 5,
   "metadata": {},
   "outputs": [
    {
     "data": {
      "text/plain": [
       "RandomForestClassifier(n_estimators=500)"
      ]
     },
     "execution_count": 5,
     "metadata": {},
     "output_type": "execute_result"
    }
   ],
   "source": [
    "rf = sklearn.ensemble.RandomForestClassifier(n_estimators=500)\n",
    "rf.fit(train, labels_train)"
   ]
  },
  {
   "cell_type": "code",
   "execution_count": 6,
   "metadata": {},
   "outputs": [
    {
     "data": {
      "text/plain": [
       "0.9666666666666667"
      ]
     },
     "execution_count": 6,
     "metadata": {},
     "output_type": "execute_result"
    }
   ],
   "source": [
    "sklearn.metrics.accuracy_score(labels_test, rf.predict(test))"
   ]
  },
  {
   "cell_type": "code",
   "execution_count": 7,
   "metadata": {},
   "outputs": [],
   "source": [
    "explainer = LimeTabularExplainer(train, \n",
    "                             feature_names=iris.feature_names, \n",
    "                             class_names=iris.target_names, \n",
    "                             discretize_continuous=True)"
   ]
  },
  {
   "cell_type": "code",
   "execution_count": 8,
   "metadata": {},
   "outputs": [
    {
     "name": "stdout",
     "output_type": "stream",
     "text": [
      "<class 'lime.lime_tabular.LimeTabularExplainer'>\n"
     ]
    }
   ],
   "source": [
    "print(type(explainer))"
   ]
  },
  {
   "cell_type": "code",
   "execution_count": 9,
   "metadata": {},
   "outputs": [],
   "source": [
    "i = np.random.randint(0, test.shape[0])\n",
    "exp = explainer.explain_instance(test[i], rf.predict_proba, num_features=4, top_labels=1)"
   ]
  },
  {
   "cell_type": "code",
   "execution_count": 10,
   "metadata": {},
   "outputs": [
    {
     "data": {
      "text/plain": [
       "{0: [(3, 0.4551816923537021),\n",
       "  (2, 0.4266276817864536),\n",
       "  (0, 0.03833847261345117),\n",
       "  (1, 0.01858900999520372)]}"
      ]
     },
     "execution_count": 10,
     "metadata": {},
     "output_type": "execute_result"
    }
   ],
   "source": [
    "exp.as_map()"
   ]
  },
  {
   "cell_type": "markdown",
   "metadata": {},
   "source": [
    "### Using AIX360 Explainability metrics to evaluate quality of explanations ###"
   ]
  },
  {
   "cell_type": "markdown",
   "metadata": {},
   "source": [
    "Get the local explanation and find the weights assigned to the features. Create a array of base (don't care) values for comparison. For iris dataset, we assume a base value of 0 for each atribute."
   ]
  },
  {
   "cell_type": "code",
   "execution_count": 11,
   "metadata": {},
   "outputs": [
    {
     "name": "stdout",
     "output_type": "stream",
     "text": [
      "Faithfulness:  -0.6039274026768449\n",
      "Monotonity:  True\n"
     ]
    }
   ],
   "source": [
    "predicted_class = rf.predict(test[i].reshape(1,-1))[0]\n",
    "le = exp.local_exp[predicted_class]\n",
    "\n",
    "m = exp.as_map()\n",
    "\n",
    "x = test[i]\n",
    "coefs = np.zeros(x.shape[0])\n",
    "\n",
    "for v in le:\n",
    "    coefs[v[0]] = v[1]\n",
    "\n",
    "\n",
    "base = np.zeros(x.shape[0])\n",
    "\n",
    "\n",
    "print(\"Faithfulness: \", faithfulness_metric(rf, x, coefs, base))\n",
    "print(\"Monotonity: \", monotonicity_metric(rf, x, coefs, base))"
   ]
  },
  {
   "cell_type": "markdown",
   "metadata": {},
   "source": [
    "while the Faithfulness metric deems the explanation to be weak, it is considered to be ok using the Monotonicity metric.\n",
    "\n",
    "Lets explore further by evaluating these metrics on the entire test set."
   ]
  },
  {
   "cell_type": "code",
   "execution_count": 12,
   "metadata": {},
   "outputs": [
    {
     "name": "stdout",
     "output_type": "stream",
     "text": [
      "% of test records where explanation is monotonic 0.8333333333333334\n"
     ]
    }
   ],
   "source": [
    "ncases = test.shape[0]\n",
    "mon = np.zeros(ncases)\n",
    "for i in range(ncases):\n",
    "    predicted_class = rf.predict(test[i].reshape(1,-1))[0]\n",
    "    exp = explainer.explain_instance(test[i], rf.predict_proba, num_features=4, top_labels=1)\n",
    "    le = exp.local_exp[predicted_class]\n",
    "    m = exp.as_map()\n",
    "    \n",
    "    x = test[i]\n",
    "    coefs = np.zeros(x.shape[0])\n",
    "    \n",
    "    for v in le:\n",
    "        coefs[v[0]] = v[1]\n",
    "\n",
    "    mon[i] = monotonicity_metric(rf, test[i], coefs, base)\n",
    "print(\"% of test records where explanation is monotonic\",np.mean(mon))"
   ]
  },
  {
   "cell_type": "markdown",
   "metadata": {},
   "source": [
    "More than 80% of the explanations are monotonic. Hence, the LIME explanations are fairly good using this measure."
   ]
  },
  {
   "cell_type": "code",
   "execution_count": 13,
   "metadata": {},
   "outputs": [
    {
     "name": "stdout",
     "output_type": "stream",
     "text": [
      "Faithfulness metric mean:  0.4746905765290242\n",
      "Faithfulness metric std. dev.: 0.6278959319743475\n"
     ]
    }
   ],
   "source": [
    "fait = np.zeros(ncases)\n",
    "for i in range(ncases):\n",
    "    predicted_class = rf.predict(test[i].reshape(1,-1))[0]\n",
    "    exp = explainer.explain_instance(test[i], rf.predict_proba, num_features=4, top_labels=1)\n",
    "    le = exp.local_exp[predicted_class]\n",
    "    m = exp.as_map()\n",
    "    \n",
    "    x = test[i]\n",
    "    coefs = np.zeros(x.shape[0])\n",
    "    \n",
    "    for v in le:\n",
    "        coefs[v[0]] = v[1]\n",
    "    fait[i] = faithfulness_metric(rf, test[i], coefs, base)\n",
    "\n",
    "print(\"Faithfulness metric mean: \",np.mean(fait))\n",
    "print(\"Faithfulness metric std. dev.:\", np.std(fait))\n",
    "\n",
    " "
   ]
  },
  {
   "cell_type": "markdown",
   "metadata": {},
   "source": [
    "The value of the faithfulness metric can be between -1.0 and 1.0. So, a mean value of around 0.5 shows that the LIME explanations are fairly good via this metric.\n",
    "Moreover, the high std. deviation shows that the distribution has probably a large number of cases with high correlation. So, we look at a histogram of faithfulness metric values for all the cases."
   ]
  },
  {
   "cell_type": "code",
   "execution_count": 14,
   "metadata": {},
   "outputs": [
    {
     "data": {
      "image/png": "[encoded data removed]",
      "text/plain": [
       "<Figure size 432x288 with 1 Axes>"
      ]
     },
     "metadata": {
      "needs_background": "light"
     },
     "output_type": "display_data"
    }
   ],
   "source": [
    "plt.hist(fait, bins = [-1.0,-0.5,0,0.5,1.0]) \n",
    "plt.title(\"histogram\") \n",
    "plt.show()"
   ]
  },
  {
   "cell_type": "markdown",
   "metadata": {},
   "source": [
    "This shows that most the explanations produced by LIME are 'faithful'. Only a few of the explanations are not good using this metric"
   ]
  },
  {
   "cell_type": "code",
   "execution_count": null,
   "metadata": {},
   "outputs": [],
   "source": []
  }
 ],
 "metadata": {
  "kernelspec": {
   "display_name": "Python 3",
   "language": "python",
   "name": "python3"
  },
  "language_info": {
   "codemirror_mode": {
    "name": "ipython",
    "version": 3
   },
   "file_extension": ".py",
   "mimetype": "text/x-python",
   "name": "python",
   "nbconvert_exporter": "python",
   "pygments_lexer": "ipython3",
   "version": "3.6.10"
  }
 },
 "nbformat": 4,
 "nbformat_minor": 2
}
